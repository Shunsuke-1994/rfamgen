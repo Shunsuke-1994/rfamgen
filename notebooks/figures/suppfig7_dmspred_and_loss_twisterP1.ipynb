{
 "cells": [
  {
   "cell_type": "markdown",
   "metadata": {},
   "source": [
    "# show relation between DMS prediction and learning curve"
   ]
  },
  {
   "attachments": {},
   "cell_type": "markdown",
   "metadata": {},
   "source": [
    "## twister-P1"
   ]
  },
  {
   "cell_type": "code",
   "execution_count": 10,
   "metadata": {},
   "outputs": [
    {
     "name": "stdout",
     "output_type": "stream",
     "text": [
      "/Users/sumishunsuke/Desktop/RNA/genzyme\n"
     ]
    }
   ],
   "source": [
    "%cd /Users/sumishunsuke/Desktop/RNA/genzyme\n",
    "\n",
    "import subprocess\n",
    "import matplotlib.pyplot as plt\n",
    "import numpy as np\n",
    "import pandas as pd"
   ]
  },
  {
   "cell_type": "code",
   "execution_count": 11,
   "metadata": {},
   "outputs": [
    {
     "name": "stdout",
     "output_type": "stream",
     "text": [
      "trial 00, done\n"
     ]
    },
    {
     "ename": "NameError",
     "evalue": "name 'res' is not defined",
     "output_type": "error",
     "traceback": [
      "\u001b[0;31m---------------------------------------------------------------------------\u001b[0m",
      "\u001b[0;31mNameError\u001b[0m                                 Traceback (most recent call last)",
      "\u001b[0;32m<ipython-input-11-c10430f4ecd5>\u001b[0m in \u001b[0;36m<module>\u001b[0;34m\u001b[0m\n\u001b[1;32m     20\u001b[0m     \u001b[0;31m# res = subprocess.run(cmd, shell = True, capture_output = True)\u001b[0m\u001b[0;34m\u001b[0m\u001b[0;34m\u001b[0m\u001b[0;34m\u001b[0m\u001b[0m\n\u001b[1;32m     21\u001b[0m     \u001b[0mprint\u001b[0m\u001b[0;34m(\u001b[0m\u001b[0;34mf\"trial {str(i).zfill(2)}, done\"\u001b[0m\u001b[0;34m)\u001b[0m\u001b[0;34m\u001b[0m\u001b[0;34m\u001b[0m\u001b[0m\n\u001b[0;32m---> 22\u001b[0;31m     \u001b[0mprint\u001b[0m\u001b[0;34m(\u001b[0m\u001b[0mres\u001b[0m\u001b[0;34m.\u001b[0m\u001b[0mstderr\u001b[0m\u001b[0;34m.\u001b[0m\u001b[0mdecode\u001b[0m\u001b[0;34m(\u001b[0m\u001b[0;34m)\u001b[0m\u001b[0;34m)\u001b[0m\u001b[0;34m\u001b[0m\u001b[0;34m\u001b[0m\u001b[0m\n\u001b[0m",
      "\u001b[0;31mNameError\u001b[0m: name 'res' is not defined"
     ]
    }
   ],
   "source": [
    "random_seeds = range(10)\n",
    "for i, seed in enumerate(random_seeds):\n",
    "    cmd = f\"\"\"\n",
    "    python ./scripts/train_CMVAE.py \\\n",
    "    --data_dir ./datasets/ForDMSdata/RF03160 \\\n",
    "    --X_train RF03160_unique_addtemp_AGUCT_notrunc_traceback_onehot_cm_train.h5 \\\n",
    "    --w_train RF03160_unique_addtemp_AGUCT_notrunc_traceback_onehot_cm_train_weight_threshold0p2.h5 \\\n",
    "    --X_valid RF03160_unique_addtemp_AGUCT_notrunc_traceback_onehot_cm_valid.h5 \\\n",
    "    --w_valid RF03160_unique_addtemp_AGUCT_notrunc_traceback_onehot_cm_valid_weight_threshold0p2.h5 \\\n",
    "    --beta 0.016 \\\n",
    "    --log \\\n",
    "    --log_dir ./outputs/ForDMSdata/RF03160/timecource_cmvae  \\\n",
    "    --use_anneal \\\n",
    "    --use_early_stopping \\\n",
    "    --save_ckpt \\\n",
    "    --ckpt_iter 3 \\\n",
    "    --random_seed {str(seed)} \\\n",
    "    --suffix _trial{str(i).zfill(2)}\n",
    "    \"\"\"\n",
    "    # res = subprocess.run(cmd, shell = True, capture_output = True)\n",
    "    print(f\"trial {str(i).zfill(2)}, done\")\n",
    "    print(res.stderr.decode())"
   ]
  },
  {
   "cell_type": "code",
   "execution_count": null,
   "metadata": {},
   "outputs": [
    {
     "data": {
      "text/plain": [
       "{43: './outputs/ForDMSdata/RF03160/timecourse_cmvae/model_epoch43_trial00.pt',\n",
       " 42: './outputs/ForDMSdata/RF03160/timecourse_cmvae/model_epoch42_trial00.pt',\n",
       " 39: './outputs/ForDMSdata/RF03160/timecourse_cmvae/model_epoch39_trial00.pt',\n",
       " 36: './outputs/ForDMSdata/RF03160/timecourse_cmvae/model_epoch36_trial00.pt',\n",
       " 33: './outputs/ForDMSdata/RF03160/timecourse_cmvae/model_epoch33_trial00.pt',\n",
       " 30: './outputs/ForDMSdata/RF03160/timecourse_cmvae/model_epoch30_trial00.pt',\n",
       " 27: './outputs/ForDMSdata/RF03160/timecourse_cmvae/model_epoch27_trial00.pt',\n",
       " 24: './outputs/ForDMSdata/RF03160/timecourse_cmvae/model_epoch24_trial00.pt',\n",
       " 21: './outputs/ForDMSdata/RF03160/timecourse_cmvae/model_epoch21_trial00.pt',\n",
       " 18: './outputs/ForDMSdata/RF03160/timecourse_cmvae/model_epoch18_trial00.pt',\n",
       " 15: './outputs/ForDMSdata/RF03160/timecourse_cmvae/model_epoch15_trial00.pt',\n",
       " 12: './outputs/ForDMSdata/RF03160/timecourse_cmvae/model_epoch12_trial00.pt',\n",
       " 9: './outputs/ForDMSdata/RF03160/timecourse_cmvae/model_epoch9_trial00.pt',\n",
       " 6: './outputs/ForDMSdata/RF03160/timecourse_cmvae/model_epoch6_trial00.pt',\n",
       " 3: './outputs/ForDMSdata/RF03160/timecourse_cmvae/model_epoch3_trial00.pt'}"
      ]
     },
     "execution_count": 3,
     "metadata": {},
     "output_type": "execute_result"
    }
   ],
   "source": [
    "# pred dms\n",
    "\n",
    "ckpts = !ls -t ./outputs/ForDMSdata/RF03160/timecourse_cmvae/*.pt\n",
    "ckpts_dict = {f\"trial{str(i).zfill(2)}\":{} for i in range(10)}\n",
    "for ckpt in ckpts:\n",
    "    ckpt_name = ckpt.split(\"/\")[-1].split(\"_\")[-1].replace(\".pt\", \"\")\n",
    "    epoch = int(ckpt.split(\"/\")[-1].split(\"_\")[-2].replace(\"epoch\", \"\"))\n",
    "    ckpts_dict[ckpt_name][epoch] = ckpt\n",
    "\n",
    "ckpts_dict[\"trial00\"]"
   ]
  },
  {
   "cell_type": "code",
   "execution_count": null,
   "metadata": {},
   "outputs": [
    {
     "name": "stdout",
     "output_type": "stream",
     "text": [
      "./datasets/ForDMSdata/RF03160/activity/Kobori2016_notrunc_traceback_onehot_cm.h5\n",
      "./datasets/ForDMSdata/RF03160/activity/Kobori2016_notrunc_traceback_onehot_cm_test.h5\n",
      "./datasets/ForDMSdata/RF03160/activity/Kobori2016_notrunc_traceback_onehot_cm_train.h5\n",
      "./datasets/ForDMSdata/RF03160/activity/Kobori2016_notrunc_traceback_onehot_cm_valid.h5\n"
     ]
    }
   ],
   "source": [
    "!ls ./datasets/ForDMSdata/RF03160/activity/*h5"
   ]
  },
  {
   "cell_type": "code",
   "execution_count": null,
   "metadata": {},
   "outputs": [],
   "source": [
    "dms_trsp = \"./datasets/ForDMSdata/RF03160/activity/Li2016_notrunc_traceback_onehot_cm.h5\"\n",
    "\n",
    "\n",
    "cmd = f\"\"\"\n",
    "ls -t ./outputs/ForDMSdata/RF03160/timecourse_cmvae/*.pt | \\\n",
    "xargs -P7 -I @ python ./scripts/pred_activity_with_CMVAE.py \\\n",
    "--in_trsp {dms_trsp} \\\n",
    "--ckpt @ \\\n",
    "--model_config ./outputs/ForDMSdata/RF03160/timecourse_cmvae/config_trial00.yaml \\\n",
    "--n_samples 5 \\\n",
    "\"\"\"\n",
    "\n",
    "\n",
    "res = subprocess.run(cmd, shell = True, capture_output = True)\n",
    "print(res.stderr.decode())"
   ]
  },
  {
   "attachments": {},
   "cell_type": "markdown",
   "metadata": {},
   "source": [
    "# comparison between loss and dms pred"
   ]
  },
  {
   "cell_type": "code",
   "execution_count": 13,
   "metadata": {},
   "outputs": [
    {
     "name": "stdout",
     "output_type": "stream",
     "text": [
      "/Users/sumishunsuke/Desktop/RNA/genzyme\n"
     ]
    }
   ],
   "source": [
    "!pwd"
   ]
  },
  {
   "cell_type": "code",
   "execution_count": 14,
   "metadata": {},
   "outputs": [],
   "source": [
    "def load_dms_results(file):\n",
    "    eve = []\n",
    "    with open(file, \"r\") as f: \n",
    "        for line in f:\n",
    "            if not line.startswith(\"#\"):\n",
    "                eve.append(float(line))\n",
    "\n",
    "    return eve\n",
    "\n",
    "\n",
    "def get_dict_pred():\n",
    "    d = {}\n",
    "    for i in range(10):\n",
    "        d_trial = {}\n",
    "        pred_files_trial = !ls -t ./outputs/ForDMSdata/RF03160/timecourse_cmvae/*trial{str(i).zfill(2)}*.txt\n",
    "        for pred_file in pred_files_trial:\n",
    "            epoch = int(pred_file.split(\"/\")[-1].split(\"_\")[1].replace(\"epoch\", \"\"))\n",
    "            \n",
    "            d_trial[epoch] = load_dms_results(pred_file)\n",
    "        d[i] = d_trial\n",
    "    return d\n",
    "\n",
    "\n",
    "d = get_dict_pred()"
   ]
  },
  {
   "cell_type": "code",
   "execution_count": 19,
   "metadata": {},
   "outputs": [
    {
     "data": {
      "text/plain": [
       "[0.06536164879798889,\n",
       " 0.07337608188390732,\n",
       " 0.0888296589255333,\n",
       " 0.022178495302796364]"
      ]
     },
     "execution_count": 19,
     "metadata": {},
     "output_type": "execute_result"
    }
   ],
   "source": [
    "# load activity\n",
    "import pandas as pd\n",
    "from Bio import SeqIO\n",
    "\n",
    "info_mut = []\n",
    "fasta = open(\"./datasets/ForDMSdata/RF03160/activity/Kobori2016.fa\", \"r\")\n",
    "for record in SeqIO.parse(fasta, \"fasta\"):\n",
    "    mut = record.description.split(\" \")[-1].split(\"/\")\n",
    "    if len(mut) == 1:\n",
    "        mut = [mut[0], mut[0]]\n",
    "    info_mut.append(mut)\n",
    "info_mut[:3]\n",
    "\n",
    "\n",
    "\n",
    "df_act = pd.read_excel(\"./datasets/ForDMSdata/RF03160/activity/Kobori_ACIE_2016_Supporting_Data.xlsx\", skiprows=2, index_col = 0)\n",
    "fitness = []\n",
    "for mut in info_mut: \n",
    "    fitness.append(df_act[mut[0]][mut[1]])\n",
    "\n",
    "fitness[:4]"
   ]
  },
  {
   "cell_type": "code",
   "execution_count": 20,
   "metadata": {},
   "outputs": [
    {
     "data": {
      "text/plain": [
       "0.13746302995927764"
      ]
     },
     "execution_count": 20,
     "metadata": {},
     "output_type": "execute_result"
    }
   ],
   "source": [
    "# load loss\n",
    "\n",
    "import pandas as pd\n",
    "import numpy as np\n",
    "import matplotlib.pyplot as plt\n",
    "from scipy.stats import spearmanr\n",
    "\n",
    "d_spearmanr = {}\n",
    "for i in range(10):\n",
    "    d_spearmanr[i] = {}\n",
    "    for epoch in d[i].keys():\n",
    "        corr, p = spearmanr(fitness, d[i][epoch])\n",
    "        d_spearmanr[i][epoch] = corr\n",
    "\n",
    "d_spearmanr[1][3]"
   ]
  },
  {
   "cell_type": "code",
   "execution_count": 22,
   "metadata": {},
   "outputs": [
    {
     "data": {
      "text/html": [
       "<div>\n",
       "<style scoped>\n",
       "    .dataframe tbody tr th:only-of-type {\n",
       "        vertical-align: middle;\n",
       "    }\n",
       "\n",
       "    .dataframe tbody tr th {\n",
       "        vertical-align: top;\n",
       "    }\n",
       "\n",
       "    .dataframe thead th {\n",
       "        text-align: right;\n",
       "    }\n",
       "</style>\n",
       "<table border=\"1\" class=\"dataframe\">\n",
       "  <thead>\n",
       "    <tr style=\"text-align: right;\">\n",
       "      <th></th>\n",
       "      <th>loss_valid</th>\n",
       "      <th>kl_valid</th>\n",
       "      <th>elbo_valid</th>\n",
       "      <th>Spearman's ρ</th>\n",
       "    </tr>\n",
       "  </thead>\n",
       "  <tbody>\n",
       "    <tr>\n",
       "      <th>0</th>\n",
       "      <td>121.060133</td>\n",
       "      <td>4.376657</td>\n",
       "      <td>121.620346</td>\n",
       "      <td>NaN</td>\n",
       "    </tr>\n",
       "    <tr>\n",
       "      <th>1</th>\n",
       "      <td>115.994011</td>\n",
       "      <td>4.608173</td>\n",
       "      <td>116.583858</td>\n",
       "      <td>NaN</td>\n",
       "    </tr>\n",
       "    <tr>\n",
       "      <th>2</th>\n",
       "      <td>113.880493</td>\n",
       "      <td>3.209692</td>\n",
       "      <td>114.291334</td>\n",
       "      <td>NaN</td>\n",
       "    </tr>\n",
       "    <tr>\n",
       "      <th>3</th>\n",
       "      <td>116.938877</td>\n",
       "      <td>2.385079</td>\n",
       "      <td>117.244165</td>\n",
       "      <td>0.137463</td>\n",
       "    </tr>\n",
       "    <tr>\n",
       "      <th>4</th>\n",
       "      <td>114.153534</td>\n",
       "      <td>2.479915</td>\n",
       "      <td>114.470962</td>\n",
       "      <td>NaN</td>\n",
       "    </tr>\n",
       "  </tbody>\n",
       "</table>\n",
       "</div>"
      ],
      "text/plain": [
       "   loss_valid  kl_valid  elbo_valid  Spearman's ρ\n",
       "0  121.060133  4.376657  121.620346           NaN\n",
       "1  115.994011  4.608173  116.583858           NaN\n",
       "2  113.880493  3.209692  114.291334           NaN\n",
       "3  116.938877  2.385079  117.244165      0.137463\n",
       "4  114.153534  2.479915  114.470962           NaN"
      ]
     },
     "execution_count": 22,
     "metadata": {},
     "output_type": "execute_result"
    }
   ],
   "source": [
    "# load all loss\n",
    "\n",
    "d_trial = {}\n",
    "for i in range(10):\n",
    "\n",
    "    df_loss = pd.read_csv(f\"./outputs/ForDMSdata/RF03160/timecourse_cmvae/log_valid_trial{str(i).zfill(2)}.csv\")\n",
    "    df_loss.head()\n",
    "    df_loss[\"Spearman's ρ\"]= [np.nan for i in df_loss.index]\n",
    "    for idx in df_loss.index:\n",
    "        try:\n",
    "            df_loss[\"Spearman's ρ\"][idx] = d_spearmanr[i][idx]\n",
    "        except:\n",
    "            pass\n",
    "\n",
    "    d_trial[i] = df_loss\n",
    "\n",
    "d_trial[1].head()"
   ]
  },
  {
   "cell_type": "code",
   "execution_count": 30,
   "metadata": {},
   "outputs": [
    {
     "data": {
      "image/png": "[encoded data removed]",
      "text/plain": [
       "<Figure size 432x288 with 1 Axes>"
      ]
     },
     "metadata": {
      "needs_background": "light"
     },
     "output_type": "display_data"
    }
   ],
   "source": [
    "for i in range(10):\n",
    "    df_tmp = d_trial[i].dropna(axis = 0)\n",
    "    corr, p = spearmanr(df_tmp[\"elbo_valid\"], df_tmp[\"Spearman's ρ\"])\n",
    "\n",
    "    plt.scatter(\n",
    "        df_tmp[\"elbo_valid\"],\n",
    "        df_tmp[\"Spearman's ρ\"].abs(), alpha = 0.5, label = f\"trial {str(i).zfill(2)}, Spearman's ρ = {corr:.4f}\")\n",
    "plt.grid(alpha = 0.5)\n",
    "plt.legend(loc = (1.03, 0.3))\n",
    "plt.xlabel(\"Loss\")\n",
    "plt.ylabel(\"Correlation with DMS data\")\n",
    "plt.title(\"Twister ribozyme P1 (Kobori et al., 2016)\")\n",
    "plt.subplots_adjust(right = 0.5)\n",
    "# plt.savefig(\"./outputs/figures/suppfig_dmspred_and_loss_twister.pdf\", transparent = True)"
   ]
  },
  {
   "cell_type": "code",
   "execution_count": null,
   "metadata": {},
   "outputs": [],
   "source": []
  }
 ],
 "metadata": {
  "kernelspec": {
   "display_name": "genzyme",
   "language": "python",
   "name": "python3"
  },
  "language_info": {
   "codemirror_mode": {
    "name": "ipython",
    "version": 3
   },
   "file_extension": ".py",
   "mimetype": "text/x-python",
   "name": "python",
   "nbconvert_exporter": "python",
   "pygments_lexer": "ipython3",
   "version": "3.7.7"
  },
  "orig_nbformat": 4
 },
 "nbformat": 4,
 "nbformat_minor": 2
}
