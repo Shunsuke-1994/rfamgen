{
 "cells": [
  {
   "attachments": {},
   "cell_type": "markdown",
   "metadata": {},
   "source": [
    "# figure2c"
   ]
  },
  {
   "cell_type": "code",
   "execution_count": 2,
   "metadata": {},
   "outputs": [
    {
     "data": {
      "text/html": [
       "<div>\n",
       "<style scoped>\n",
       "    .dataframe tbody tr th:only-of-type {\n",
       "        vertical-align: middle;\n",
       "    }\n",
       "\n",
       "    .dataframe tbody tr th {\n",
       "        vertical-align: top;\n",
       "    }\n",
       "\n",
       "    .dataframe thead th {\n",
       "        text-align: right;\n",
       "    }\n",
       "</style>\n",
       "<table border=\"1\" class=\"dataframe\">\n",
       "  <thead>\n",
       "    <tr style=\"text-align: right;\">\n",
       "      <th></th>\n",
       "      <th>ID</th>\n",
       "      <th>description</th>\n",
       "      <th>Natural</th>\n",
       "      <th>CMVAE</th>\n",
       "      <th>GCVAE</th>\n",
       "    </tr>\n",
       "  </thead>\n",
       "  <tbody>\n",
       "    <tr>\n",
       "      <th>RF00001</th>\n",
       "      <td>5S_rRNA</td>\n",
       "      <td>5S ribosomal RNA</td>\n",
       "      <td>70.108745</td>\n",
       "      <td>123.155918</td>\n",
       "      <td>98.888120</td>\n",
       "    </tr>\n",
       "    <tr>\n",
       "      <th>RF00002</th>\n",
       "      <td>5_8S_rRNA</td>\n",
       "      <td>5.8S ribosomal RNA</td>\n",
       "      <td>90.842727</td>\n",
       "      <td>135.292270</td>\n",
       "      <td>123.664390</td>\n",
       "    </tr>\n",
       "    <tr>\n",
       "      <th>RF00003</th>\n",
       "      <td>U1</td>\n",
       "      <td>U1 spliceosomal RNA</td>\n",
       "      <td>117.702254</td>\n",
       "      <td>156.938946</td>\n",
       "      <td>133.522630</td>\n",
       "    </tr>\n",
       "    <tr>\n",
       "      <th>RF00004</th>\n",
       "      <td>U2</td>\n",
       "      <td>U2 spliceosomal RNA</td>\n",
       "      <td>98.615207</td>\n",
       "      <td>198.685840</td>\n",
       "      <td>130.565140</td>\n",
       "    </tr>\n",
       "    <tr>\n",
       "      <th>RF00006</th>\n",
       "      <td>Vault</td>\n",
       "      <td>Vault RNA</td>\n",
       "      <td>58.438125</td>\n",
       "      <td>74.998840</td>\n",
       "      <td>72.616530</td>\n",
       "    </tr>\n",
       "    <tr>\n",
       "      <th>...</th>\n",
       "      <td>...</td>\n",
       "      <td>...</td>\n",
       "      <td>...</td>\n",
       "      <td>...</td>\n",
       "      <td>...</td>\n",
       "    </tr>\n",
       "    <tr>\n",
       "      <th>RF04152</th>\n",
       "      <td>mir-3618</td>\n",
       "      <td>mir-3618 microRNA precursor family</td>\n",
       "      <td>106.471000</td>\n",
       "      <td>104.322000</td>\n",
       "      <td>109.300000</td>\n",
       "    </tr>\n",
       "    <tr>\n",
       "      <th>RF04155</th>\n",
       "      <td>mir-9236</td>\n",
       "      <td>mir-9236 microRNA precursor family</td>\n",
       "      <td>100.180680</td>\n",
       "      <td>87.858974</td>\n",
       "      <td>103.635000</td>\n",
       "    </tr>\n",
       "    <tr>\n",
       "      <th>RF04156</th>\n",
       "      <td>MIR2670</td>\n",
       "      <td>MIR2670 microRNA precursor family</td>\n",
       "      <td>175.654839</td>\n",
       "      <td>218.504579</td>\n",
       "      <td>196.008913</td>\n",
       "    </tr>\n",
       "    <tr>\n",
       "      <th>RF04163</th>\n",
       "      <td>mir-8364</td>\n",
       "      <td>mir-8364 microRNA precursor family</td>\n",
       "      <td>74.249436</td>\n",
       "      <td>79.822386</td>\n",
       "      <td>85.007366</td>\n",
       "    </tr>\n",
       "    <tr>\n",
       "      <th>RF04183</th>\n",
       "      <td>Bacteroidales_small_SRP</td>\n",
       "      <td>Bacteroidales small SRP</td>\n",
       "      <td>99.756770</td>\n",
       "      <td>102.012160</td>\n",
       "      <td>109.963760</td>\n",
       "    </tr>\n",
       "  </tbody>\n",
       "</table>\n",
       "<p>628 rows × 5 columns</p>\n",
       "</div>"
      ],
      "text/plain": [
       "                              ID                         description  \\\n",
       "RF00001                  5S_rRNA                    5S ribosomal RNA   \n",
       "RF00002                5_8S_rRNA                  5.8S ribosomal RNA   \n",
       "RF00003                       U1                 U1 spliceosomal RNA   \n",
       "RF00004                       U2                 U2 spliceosomal RNA   \n",
       "RF00006                    Vault                           Vault RNA   \n",
       "...                          ...                                 ...   \n",
       "RF04152                 mir-3618  mir-3618 microRNA precursor family   \n",
       "RF04155                 mir-9236  mir-9236 microRNA precursor family   \n",
       "RF04156                  MIR2670   MIR2670 microRNA precursor family   \n",
       "RF04163                 mir-8364  mir-8364 microRNA precursor family   \n",
       "RF04183  Bacteroidales_small_SRP             Bacteroidales small SRP   \n",
       "\n",
       "            Natural       CMVAE       GCVAE  \n",
       "RF00001   70.108745  123.155918   98.888120  \n",
       "RF00002   90.842727  135.292270  123.664390  \n",
       "RF00003  117.702254  156.938946  133.522630  \n",
       "RF00004   98.615207  198.685840  130.565140  \n",
       "RF00006   58.438125   74.998840   72.616530  \n",
       "...             ...         ...         ...  \n",
       "RF04152  106.471000  104.322000  109.300000  \n",
       "RF04155  100.180680   87.858974  103.635000  \n",
       "RF04156  175.654839  218.504579  196.008913  \n",
       "RF04163   74.249436   79.822386   85.007366  \n",
       "RF04183   99.756770  102.012160  109.963760  \n",
       "\n",
       "[628 rows x 5 columns]"
      ]
     },
     "execution_count": 2,
     "metadata": {},
     "output_type": "execute_result"
    }
   ],
   "source": [
    "import pandas as pd \n",
    "import matplotlib.pyplot as plt \n",
    "\n",
    "df_bitscore = pd.read_csv(\"../../outputs/EXP08/EXP08-08/bitscore.csv\", index_col = 0)\n",
    "df_bitscore"
   ]
  },
  {
   "cell_type": "code",
   "execution_count": 3,
   "metadata": {},
   "outputs": [
    {
     "data": {
      "image/png": "[encoded data removed]",
      "text/plain": [
       "<Figure size 360x360 with 1 Axes>"
      ]
     },
     "metadata": {
      "needs_background": "light"
     },
     "output_type": "display_data"
    }
   ],
   "source": [
    "# plot scatter \n",
    "import numpy as np\n",
    "import seaborn as sns \n",
    "from mpl_toolkits.axes_grid.inset_locator import (inset_axes, InsetPosition, mark_inset)\n",
    "\n",
    "# df_bitscore = pd.DataFrame(bitscores).T.dropna()\n",
    "\n",
    "fig, ax1 = plt.subplots(figsize = (5, 5))\n",
    "def transform(x):\n",
    "    return np.log2(x - min(df_bitscore[\"CMVAE\"]) + 1)\n",
    "\n",
    "data_cmvae = transform(df_bitscore[\"CMVAE\"])\n",
    "data_gcvae = transform(df_bitscore[\"GCVAE\"])\n",
    "\n",
    "ax1.scatter(data_gcvae, data_cmvae, marker = \".\", alpha = 0.5, s = 12, color = \"darkorange\")\n",
    "ax1.grid(alpha = 0.3)\n",
    "ax1.plot(\n",
    "    [transform(0), transform(2500)],\n",
    "    [transform(0), transform(2500)],\n",
    "    color = \"black\", linestyle = \"dashed\", linewidth =1)\n",
    "\n",
    "ax1.set_title(\"Bit scores of 628 RNA families\", fontsize = 16)\n",
    "ax1.set_xlabel(\"GCVAE\", fontsize = 14)\n",
    "ax1.set_ylabel(\"RfamGen\", fontsize = 14)\n",
    "ax1.set_ylim(transform(0), transform(2500))\n",
    "ax1.set_xlim(transform(0), transform(2500))\n",
    "\n",
    "ticks = [20 ,50, 100, 200, 300, 400]+[500*i for i in range(1,6)]\n",
    "\n",
    "plt.xticks([np.log2(t+1) for t in ticks], ticks, rotation=90)\n",
    "plt.yticks([np.log2(t+1) for t in ticks], ticks)\n",
    "\n",
    "\n",
    "plt.tight_layout()\n",
    "# fig.subplots_adjust(right=0.76)\n",
    "plt.savefig(\"../../outputs/figures/figure2c.pdf\",transparent = True)\n",
    "# plt.savefig(\"../outputs/EXP08/EXP08-08/scatter_gc_vs_cm.pdf\", dpi = 300)\n",
    "# plt.savefig(\"../outputs/EXP08/EXP08-08/scatter_gc_vs_cm.png\", dpi = 300)"
   ]
  },
  {
   "cell_type": "code",
   "execution_count": 10,
   "metadata": {},
   "outputs": [
    {
     "data": {
      "text/plain": [
       "-2.4942516268980475"
      ]
     },
     "execution_count": 10,
     "metadata": {},
     "output_type": "execute_result"
    }
   ],
   "source": [
    "min(df_bitscore[\"CMVAE\"])"
   ]
  },
  {
   "cell_type": "code",
   "execution_count": 11,
   "metadata": {},
   "outputs": [
    {
     "data": {
      "text/plain": [
       "20.37653"
      ]
     },
     "execution_count": 11,
     "metadata": {},
     "output_type": "execute_result"
    }
   ],
   "source": [
    "min(df_bitscore[\"GCVAE\"])"
   ]
  },
  {
   "cell_type": "code",
   "execution_count": null,
   "metadata": {},
   "outputs": [],
   "source": []
  }
 ],
 "metadata": {
  "kernelspec": {
   "display_name": "genzyme",
   "language": "python",
   "name": "python3"
  },
  "language_info": {
   "codemirror_mode": {
    "name": "ipython",
    "version": 3
   },
   "file_extension": ".py",
   "mimetype": "text/x-python",
   "name": "python",
   "nbconvert_exporter": "python",
   "pygments_lexer": "ipython3",
   "version": "3.7.7"
  },
  "orig_nbformat": 4
 },
 "nbformat": 4,
 "nbformat_minor": 2
}
