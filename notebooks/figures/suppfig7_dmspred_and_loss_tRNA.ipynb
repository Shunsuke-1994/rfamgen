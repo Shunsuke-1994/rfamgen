{
 "cells": [
  {
   "cell_type": "markdown",
   "metadata": {},
   "source": [
    "# show relation between DMS prediction and learning curve"
   ]
  },
  {
   "attachments": {},
   "cell_type": "markdown",
   "metadata": {},
   "source": [
    "# tRNA(CCU anticodon)"
   ]
  },
  {
   "cell_type": "code",
   "execution_count": 1,
   "metadata": {},
   "outputs": [
    {
     "name": "stdout",
     "output_type": "stream",
     "text": [
      "/Users/sumishunsuke/Desktop/RNA/genzyme\n"
     ]
    }
   ],
   "source": [
    "%cd /Users/sumishunsuke/Desktop/RNA/genzyme\n",
    "\n",
    "import subprocess\n",
    "import matplotlib.pyplot as plt\n",
    "import numpy as np\n",
    "import pandas as pd"
   ]
  },
  {
   "cell_type": "code",
   "execution_count": null,
   "metadata": {},
   "outputs": [],
   "source": [
    "random_seeds = range(10)\n",
    "for i, seed in enumerate(random_seeds):\n",
    "    cmd = f\"\"\"\n",
    "    python ./scripts/train_CMVAE.py \\\n",
    "    --data_dir ./datasets/ForDMSdata/RF00005_CCU \\\n",
    "    --X_train RF00005_unique_CCUanticodon_notrunc_traceback_onehot_cm_train.h5 \\\n",
    "    --w_train RF00005_unique_CCUanticodon_notrunc_traceback_onehot_cm_train_weight_threshold0p2.h5 \\\n",
    "    --X_valid RF00005_unique_CCUanticodon_notrunc_traceback_onehot_cm_valid.h5 \\\n",
    "    --w_valid RF00005_unique_CCUanticodon_notrunc_traceback_onehot_cm_valid_weight_threshold0p2.h5 \\\n",
    "    --beta 0.016 \\\n",
    "    --log \\\n",
    "    --log_dir ./outputs/ForDMSdata/RF00005_CCU/timecourse_cmvae  \\\n",
    "    --use_anneal \\\n",
    "    --use_early_stopping \\\n",
    "    --save_ckpt \\\n",
    "    --ckpt_iter 3 \\\n",
    "    --random_seed {str(seed)} \\\n",
    "    --suffix _trial{str(i).zfill(2)}\n",
    "    \"\"\"\n",
    "    # res = subprocess.run(cmd, shell = True, capture_output = True)\n",
    "    print(f\"trial {str(i).zfill(2)}, done\")\n",
    "    print(res.stderr.decode())"
   ]
  },
  {
   "attachments": {},
   "cell_type": "markdown",
   "metadata": {},
   "source": [
    "# pred DMS "
   ]
  },
  {
   "cell_type": "code",
   "execution_count": 11,
   "metadata": {},
   "outputs": [
    {
     "data": {
      "text/plain": [
       "{49: './outputs/ForDMSdata/RF00005_CCU/timecourse_cmvae/model_epoch49_trial00.pt',\n",
       " 48: './outputs/ForDMSdata/RF00005_CCU/timecourse_cmvae/model_epoch48_trial00.pt',\n",
       " 45: './outputs/ForDMSdata/RF00005_CCU/timecourse_cmvae/model_epoch45_trial00.pt',\n",
       " 42: './outputs/ForDMSdata/RF00005_CCU/timecourse_cmvae/model_epoch42_trial00.pt',\n",
       " 39: './outputs/ForDMSdata/RF00005_CCU/timecourse_cmvae/model_epoch39_trial00.pt',\n",
       " 36: './outputs/ForDMSdata/RF00005_CCU/timecourse_cmvae/model_epoch36_trial00.pt',\n",
       " 33: './outputs/ForDMSdata/RF00005_CCU/timecourse_cmvae/model_epoch33_trial00.pt',\n",
       " 30: './outputs/ForDMSdata/RF00005_CCU/timecourse_cmvae/model_epoch30_trial00.pt',\n",
       " 27: './outputs/ForDMSdata/RF00005_CCU/timecourse_cmvae/model_epoch27_trial00.pt',\n",
       " 24: './outputs/ForDMSdata/RF00005_CCU/timecourse_cmvae/model_epoch24_trial00.pt',\n",
       " 21: './outputs/ForDMSdata/RF00005_CCU/timecourse_cmvae/model_epoch21_trial00.pt',\n",
       " 18: './outputs/ForDMSdata/RF00005_CCU/timecourse_cmvae/model_epoch18_trial00.pt',\n",
       " 15: './outputs/ForDMSdata/RF00005_CCU/timecourse_cmvae/model_epoch15_trial00.pt',\n",
       " 12: './outputs/ForDMSdata/RF00005_CCU/timecourse_cmvae/model_epoch12_trial00.pt',\n",
       " 9: './outputs/ForDMSdata/RF00005_CCU/timecourse_cmvae/model_epoch9_trial00.pt',\n",
       " 6: './outputs/ForDMSdata/RF00005_CCU/timecourse_cmvae/model_epoch6_trial00.pt',\n",
       " 3: './outputs/ForDMSdata/RF00005_CCU/timecourse_cmvae/model_epoch3_trial00.pt'}"
      ]
     },
     "execution_count": 11,
     "metadata": {},
     "output_type": "execute_result"
    }
   ],
   "source": [
    "ckpts = !ls -t ./outputs/ForDMSdata/RF00005_CCU/timecourse_cmvae/*.pt\n",
    "ckpts_dict = {f\"trial{str(i).zfill(2)}\":{} for i in range(10)}\n",
    "for ckpt in ckpts:\n",
    "    ckpt_name = ckpt.split(\"/\")[-1].split(\"_\")[-1].replace(\".pt\", \"\")\n",
    "    epoch = int(ckpt.split(\"/\")[-1].split(\"_\")[-2].replace(\"epoch\", \"\"))\n",
    "    ckpts_dict[ckpt_name][epoch] = ckpt\n",
    "\n",
    "ckpts_dict[\"trial00\"]"
   ]
  },
  {
   "cell_type": "code",
   "execution_count": null,
   "metadata": {},
   "outputs": [],
   "source": [
    "dms_trsp = \"./datasets/ForDMSdata/RF00005_CCU/activity/Li2016_notrunc_traceback_onehot_cm.h5\"\n",
    "\n",
    "\n",
    "cmd = f\"\"\"\n",
    "ls -t ./outputs/ForDMSdata/RF00005_CCU/timecourse_cmvae/*.pt | \\\n",
    "xargs -P7 -I @ python ./scripts/pred_activity_with_CMVAE.py \\\n",
    "--in_trsp {dms_trsp} \\\n",
    "--ckpt @ \\\n",
    "--model_config ./outputs/ForDMSdata/RF00005_CCU/timecourse_cmvae/config_trial00.yaml \\\n",
    "--n_samples 5 \\\n",
    "\"\"\"\n",
    "\n",
    "\n",
    "res = subprocess.run(cmd, shell = True, capture_output = True)\n",
    "print(res.stderr.decode())"
   ]
  },
  {
   "attachments": {},
   "cell_type": "markdown",
   "metadata": {},
   "source": [
    "# comparison between loss and dms pred"
   ]
  },
  {
   "cell_type": "code",
   "execution_count": 90,
   "metadata": {},
   "outputs": [],
   "source": [
    "def load_dms_results(file):\n",
    "    eve = []\n",
    "    with open(file, \"r\") as f: \n",
    "        for line in f:\n",
    "            if not line.startswith(\"#\"):\n",
    "                eve.append(float(line))\n",
    "\n",
    "    return eve\n",
    "\n",
    "\n",
    "def get_dict_pred():\n",
    "    d = {}\n",
    "    for i in range(10):\n",
    "        d_trial = {}\n",
    "        pred_files_trial = !ls -t ../../outputs/ForDMSdata/RF00005_CCU/timecourse_cmvae/*trial{str(i).zfill(2)}*.txt\n",
    "        # print(pred_files_trial)\n",
    "        for pred_file in pred_files_trial:\n",
    "            # print(pred_file)\n",
    "            epoch = int(pred_file.split(\"/\")[-1].split(\"_\")[1].replace(\"epoch\", \"\"))\n",
    "            \n",
    "            d_trial[epoch] = load_dms_results(pred_file)\n",
    "        d[i] = d_trial\n",
    "    return d\n",
    "\n",
    "\n",
    "d = get_dict_pred()\n",
    "d[1][3]\n"
   ]
  },
  {
   "cell_type": "code",
   "execution_count": 102,
   "metadata": {},
   "outputs": [
    {
     "data": {
      "text/html": [
       "<div>\n",
       "<style scoped>\n",
       "    .dataframe tbody tr th:only-of-type {\n",
       "        vertical-align: middle;\n",
       "    }\n",
       "\n",
       "    .dataframe tbody tr th {\n",
       "        vertical-align: top;\n",
       "    }\n",
       "\n",
       "    .dataframe thead th {\n",
       "        text-align: right;\n",
       "    }\n",
       "</style>\n",
       "<table border=\"1\" class=\"dataframe\">\n",
       "  <thead>\n",
       "    <tr style=\"text-align: right;\">\n",
       "      <th></th>\n",
       "      <th>loss_valid</th>\n",
       "      <th>kl_valid</th>\n",
       "      <th>elbo_valid</th>\n",
       "      <th>Spearman's ρ</th>\n",
       "    </tr>\n",
       "  </thead>\n",
       "  <tbody>\n",
       "    <tr>\n",
       "      <th>0</th>\n",
       "      <td>27.845746</td>\n",
       "      <td>0.000251</td>\n",
       "      <td>27.845778</td>\n",
       "      <td>NaN</td>\n",
       "    </tr>\n",
       "    <tr>\n",
       "      <th>1</th>\n",
       "      <td>26.578389</td>\n",
       "      <td>0.000181</td>\n",
       "      <td>26.578412</td>\n",
       "      <td>NaN</td>\n",
       "    </tr>\n",
       "    <tr>\n",
       "      <th>2</th>\n",
       "      <td>26.000580</td>\n",
       "      <td>0.000248</td>\n",
       "      <td>26.000612</td>\n",
       "      <td>NaN</td>\n",
       "    </tr>\n",
       "    <tr>\n",
       "      <th>3</th>\n",
       "      <td>25.674200</td>\n",
       "      <td>0.000536</td>\n",
       "      <td>25.674268</td>\n",
       "      <td>-0.470647</td>\n",
       "    </tr>\n",
       "    <tr>\n",
       "      <th>4</th>\n",
       "      <td>25.327111</td>\n",
       "      <td>0.000004</td>\n",
       "      <td>25.327112</td>\n",
       "      <td>NaN</td>\n",
       "    </tr>\n",
       "    <tr>\n",
       "      <th>...</th>\n",
       "      <td>...</td>\n",
       "      <td>...</td>\n",
       "      <td>...</td>\n",
       "      <td>...</td>\n",
       "    </tr>\n",
       "    <tr>\n",
       "      <th>64</th>\n",
       "      <td>24.076894</td>\n",
       "      <td>0.000062</td>\n",
       "      <td>24.076902</td>\n",
       "      <td>NaN</td>\n",
       "    </tr>\n",
       "    <tr>\n",
       "      <th>65</th>\n",
       "      <td>24.040079</td>\n",
       "      <td>0.000000</td>\n",
       "      <td>24.040079</td>\n",
       "      <td>NaN</td>\n",
       "    </tr>\n",
       "    <tr>\n",
       "      <th>66</th>\n",
       "      <td>24.074296</td>\n",
       "      <td>0.000004</td>\n",
       "      <td>24.074296</td>\n",
       "      <td>-0.544262</td>\n",
       "    </tr>\n",
       "    <tr>\n",
       "      <th>67</th>\n",
       "      <td>24.085179</td>\n",
       "      <td>0.000005</td>\n",
       "      <td>24.085179</td>\n",
       "      <td>NaN</td>\n",
       "    </tr>\n",
       "    <tr>\n",
       "      <th>68</th>\n",
       "      <td>24.103212</td>\n",
       "      <td>0.000008</td>\n",
       "      <td>24.103213</td>\n",
       "      <td>NaN</td>\n",
       "    </tr>\n",
       "  </tbody>\n",
       "</table>\n",
       "<p>69 rows × 4 columns</p>\n",
       "</div>"
      ],
      "text/plain": [
       "    loss_valid  kl_valid  elbo_valid  Spearman's ρ\n",
       "0    27.845746  0.000251   27.845778           NaN\n",
       "1    26.578389  0.000181   26.578412           NaN\n",
       "2    26.000580  0.000248   26.000612           NaN\n",
       "3    25.674200  0.000536   25.674268     -0.470647\n",
       "4    25.327111  0.000004   25.327112           NaN\n",
       "..         ...       ...         ...           ...\n",
       "64   24.076894  0.000062   24.076902           NaN\n",
       "65   24.040079  0.000000   24.040079           NaN\n",
       "66   24.074296  0.000004   24.074296     -0.544262\n",
       "67   24.085179  0.000005   24.085179           NaN\n",
       "68   24.103212  0.000008   24.103213           NaN\n",
       "\n",
       "[69 rows x 4 columns]"
      ]
     },
     "execution_count": 102,
     "metadata": {},
     "output_type": "execute_result"
    }
   ],
   "source": [
    "d_trial = {}\n",
    "for i in range(10):\n",
    "\n",
    "    df_loss = pd.read_csv(f\"../../outputs/ForDMSdata/RF00005_CCU/timecourse_cmvae/log_valid_trial{str(i).zfill(2)}.csv\")\n",
    "    df_loss.head()\n",
    "    df_loss[\"Spearman's ρ\"]= [np.nan for i in df_loss.index]\n",
    "    for idx in df_loss.index:\n",
    "        try:\n",
    "            df_loss[\"Spearman's ρ\"][idx] = d_spearmanr[i][idx]\n",
    "        except:\n",
    "            pass\n",
    "\n",
    "    d_trial[i] = df_loss\n",
    "\n",
    "d_trial[1]"
   ]
  },
  {
   "cell_type": "code",
   "execution_count": 94,
   "metadata": {},
   "outputs": [],
   "source": [
    "def normalize(x):\n",
    "    return (x - x.min()) / (x.max() - x.min())"
   ]
  },
  {
   "cell_type": "code",
   "execution_count": 133,
   "metadata": {},
   "outputs": [
    {
     "data": {
      "text/plain": [
       "Text(0.5, 1.0, \"tRNA (Li et al., 2016), trial 00, Spearman's ρ = 0.64\")"
      ]
     },
     "execution_count": 133,
     "metadata": {},
     "output_type": "execute_result"
    },
    {
     "data": {
      "image/png": "[encoded data removed]",
      "text/plain": [
       "<Figure size 432x288 with 1 Axes>"
      ]
     },
     "metadata": {
      "needs_background": "light"
     },
     "output_type": "display_data"
    }
   ],
   "source": [
    "plt.plot(\n",
    "    df_loss[\"elbo_valid\"].index,\n",
    "    normalize(df_loss[\"elbo_valid\"]), label = \"Loss\")\n",
    "\n",
    "plt.plot(\n",
    "    df_loss[\"Spearman's ρ\"].dropna(axis = 0).index,\n",
    "    normalize(df_loss[\"Spearman's ρ\"].dropna(axis = 0)),\n",
    "    label = \"DMS prediction accuracy\")\n",
    " \n",
    "\n",
    "plt.grid(alpha = 0.3)\n",
    "plt.legend()\n",
    "plt.xlabel(\"Epoch\")\n",
    "plt.ylabel(\"Scaled value\")\n",
    "\n",
    "corr, p = spearmanr(df_loss.dropna(axis = 0)[\"elbo_valid\"], df_loss.dropna(axis = 0)[\"Spearman's ρ\"])\n",
    "plt.title(\"tRNA (Li et al., 2016), trial 00, Spearman's ρ = {:.2f}\".format(corr))\n"
   ]
  },
  {
   "cell_type": "code",
   "execution_count": 136,
   "metadata": {},
   "outputs": [
    {
     "data": {
      "image/png": "[encoded data removed]",
      "text/plain": [
       "<Figure size 432x288 with 1 Axes>"
      ]
     },
     "metadata": {
      "needs_background": "light"
     },
     "output_type": "display_data"
    }
   ],
   "source": [
    "for i in range(10):\n",
    "    df_tmp = d_trial[i].dropna(axis = 0)\n",
    "    corr, p = spearmanr(df_tmp[\"elbo_valid\"], df_tmp[\"Spearman's ρ\"])\n",
    "\n",
    "    plt.scatter(\n",
    "        df_tmp[\"elbo_valid\"],\n",
    "        df_tmp[\"Spearman's ρ\"].abs(), alpha = 0.5, label = f\"trial {str(i).zfill(2)}, Spearman's ρ = {corr:.4f}\")\n",
    "plt.grid(alpha = 0.5)\n",
    "plt.legend(loc = (1.03, 0.3))\n",
    "# plt.legend(fontsize = 8)\n",
    "plt.xlabel(\"Loss\")\n",
    "plt.ylabel(\"Correlation with DMS data\")\n",
    "plt.title(\"tRNA (Li et al., 2016)\")\n",
    "plt.subplots_adjust(right = 0.5)\n",
    "\n",
    "# plt.savefig(\"../../outputs/figures/suppfig_dmspred_and_loss_tRNA.pdf\", transparent = True)"
   ]
  },
  {
   "cell_type": "code",
   "execution_count": null,
   "metadata": {},
   "outputs": [],
   "source": []
  }
 ],
 "metadata": {
  "kernelspec": {
   "display_name": "genzyme",
   "language": "python",
   "name": "python3"
  },
  "language_info": {
   "codemirror_mode": {
    "name": "ipython",
    "version": 3
   },
   "file_extension": ".py",
   "mimetype": "text/x-python",
   "name": "python",
   "nbconvert_exporter": "python",
   "pygments_lexer": "ipython3",
   "version": "3.7.7"
  },
  "orig_nbformat": 4
 },
 "nbformat": 4,
 "nbformat_minor": 2
}
