{
 "cells": [
  {
   "cell_type": "markdown",
   "id": "valuable-purple",
   "metadata": {},
   "source": [
    "# figure3d \n",
    "based on `[20230223]EXP11-13_embed_twister-sister-beta0p001`"
   ]
  },
  {
   "cell_type": "code",
   "execution_count": 1,
   "id": "integrated-deadline",
   "metadata": {
    "code_folding": []
   },
   "outputs": [],
   "source": [
    "# install \n",
    "\n",
    "import os \n",
    "import sys \n",
    "sys.path.append(\"../../src\")\n",
    "import preprocess\n",
    "import util\n",
    "import torch \n",
    "import torch.nn as nn \n",
    "import matplotlib.pyplot as plt\n",
    "import numpy as np \n",
    "import pandas as pd \n",
    "import random \n",
    "import h5py \n",
    "from models.CMVAE import CovarianceModelVAE\n",
    "from Bio import SeqIO\n",
    "plt.rcParams['font.family'] = 'sans-serif'\n",
    "\n",
    "\n",
    "SEED = 42\n",
    "random.seed(SEED)\n",
    "np.random.seed(SEED)\n",
    "torch.manual_seed(SEED)\n",
    "\n",
    "\n",
    "log_dir = \"../outputs/diverse/ts\"\n",
    "data_dir = \"../datasets/diverse/ts\"\n",
    "rfam = \"RF02681\""
   ]
  },
  {
   "cell_type": "code",
   "execution_count": 2,
   "id": "natural-compiler",
   "metadata": {
    "code_folding": [
     0
    ]
   },
   "outputs": [],
   "source": [
    "# loading model\n",
    "\n",
    "model = CovarianceModelVAE.build_from_config(f\"../{log_dir}/config_1em3_seed17.yaml\")\n",
    "model.load_model_from_ckpt(f\"../{log_dir}/model_epoch200_1em3_seed17.pt\")\n",
    "model.eval();"
   ]
  },
  {
   "cell_type": "markdown",
   "id": "contained-optics",
   "metadata": {},
   "source": [
    "# embed"
   ]
  },
  {
   "cell_type": "code",
   "execution_count": 3,
   "id": "invisible-opening",
   "metadata": {},
   "outputs": [
    {
     "name": "stdout",
     "output_type": "stream",
     "text": [
      "../../datasets/diverse/ts/RF02681_unique_tidy_notrunc_traceback_onehot_cm_train.h5\n",
      "../../datasets/diverse/ts/RF02681_unique_tidy_notrunc_traceback_onehot_cm_train_weight_threshold0p05.h5\n"
     ]
    }
   ],
   "source": [
    "!ls ../{data_dir}/*train*h5"
   ]
  },
  {
   "cell_type": "code",
   "execution_count": 4,
   "id": "headed-swedish",
   "metadata": {
    "code_folding": [
     0
    ]
   },
   "outputs": [
    {
     "data": {
      "text/plain": [
       "array([b'URS0000D65CFC_12908/1-95 unclassified sequences Twister_sister_ribozyme',\n",
       "       b'URS0000D677E9_12908/1-72 unclassified sequences Twister_sister_ribozyme',\n",
       "       b'URS0000D6B2EB_12908/1-81 unclassified sequences Twister_sister_ribozyme'],\n",
       "      dtype='|S83')"
      ]
     },
     "execution_count": 4,
     "metadata": {},
     "output_type": "execute_result"
    }
   ],
   "source": [
    "# get meta info\n",
    "import h5py\n",
    "from Bio import SeqIO\n",
    "from sklearn.model_selection import train_test_split\n",
    "\n",
    "\n",
    "origin_fasta = f\"../{data_dir}/RF02681_unique_tidy.fa\"\n",
    "path_h5_train = f\"../{data_dir}/RF02681_unique_tidy_notrunc_traceback_onehot_cm_train.h5\"\n",
    "\n",
    "records_iddesc = [(record.id, record.description) for record in SeqIO.parse(origin_fasta, \"fasta\")]\n",
    "train_iddesc, _ = train_test_split(records_iddesc, test_size=0.3, random_state = 42)\n",
    "data = h5py.File(path_h5_train, \"r+\")\n",
    "\n",
    "if \"id\" in dict(data):\n",
    "    del data[\"id\"]\n",
    "if \"desc\" in dict(data):\n",
    "    del data[\"desc\"]\n",
    "    \n",
    "# add id and desc\n",
    "data.create_dataset(\"id\", data=[x[0].encode() for x in train_iddesc])\n",
    "data.create_dataset(\"desc\", data=[x[1].encode() for x in train_iddesc])\n",
    "\n",
    "data[\"desc\"][:3]\n"
   ]
  },
  {
   "cell_type": "code",
   "execution_count": 5,
   "id": "ceramic-following",
   "metadata": {
    "code_folding": [
     0
    ],
    "scrolled": true
   },
   "outputs": [
    {
     "data": {
      "text/plain": [
       "79"
      ]
     },
     "execution_count": 5,
     "metadata": {},
     "output_type": "execute_result"
    }
   ],
   "source": [
    "# load z_train with desc\n",
    "\n",
    "def load_data_cm(path):\n",
    "    data = h5py.File(path, \"r\")\n",
    "    id_ = data[\"id\"][:].tolist()\n",
    "    desc = data[\"desc\"][:].tolist()\n",
    "    tr = torch.from_numpy(data[\"tr\"][:]).nan_to_num(0).transpose(-2, -1).float()\n",
    "    s = torch.from_numpy(data[\"s\"][:]).transpose(-2, -1).float()\n",
    "    p = torch.from_numpy(data[\"p\"][:]).transpose(-2, -1).float()\n",
    "    return id_, desc, tr, s, p\n",
    "\n",
    "\n",
    "X_train_fname = f\"../{data_dir}/{rfam}_unique_tidy_notrunc_traceback_onehot_cm_train.h5\"\n",
    "pentad = load_data_cm(X_train_fname)\n",
    "\n",
    "\n",
    "z_mu_train = []\n",
    "z_logvar_train = []\n",
    "z_id_train = []\n",
    "z_desc_train = []\n",
    "\n",
    "for id_, desc, tr_, s_, p_ in zip(*pentad):\n",
    "    tr_ = tr_.unsqueeze(0)\n",
    "    s_ = s_.unsqueeze(0)\n",
    "    p_ = p_.unsqueeze(0)\n",
    "    mu, logvar = model.encoder((tr_, s_, p_))\n",
    "    z_mu_train.append(mu.squeeze().detach().numpy())\n",
    "    z_logvar_train.append(logvar.squeeze().detach().numpy())\n",
    "    z_id_train.append(id_.decode())\n",
    "    z_desc_train.append(desc.decode())\n",
    "len(z_desc_train)"
   ]
  },
  {
   "cell_type": "code",
   "execution_count": 31,
   "id": "significant-advance",
   "metadata": {
    "code_folding": []
   },
   "outputs": [
    {
     "name": "stdout",
     "output_type": "stream",
     "text": [
      "{'reference_annotation': 'auAaggcgCAAGGCCcAcgc.....aucu~~~~~~~~~~~~~~~~~~~~~~~~~~~.......gcgua..G..CCcGUGcAAGCCgGG.CcgcCccc....gaaau~~~.................................gggGgcg.GGCGCUcAu..gccuaaaaa',\n",
      " 'secondary_structure': ':::((((-----(((,,<<<.....____~~~~~~~~~~~~~~~~~~~~~~~~~~~.......>>>,,..<..<<<_________>>>.><<<<<<<...._____~~~.................................>>>>>>>.)))------..)))):::::'}\n",
      "\n",
      "   :::((((-----(((,,<<<.....____~~~~~~~~~~~~~~~~~~~~~~~~~~~.......>>>,,..<..<<<_________>>>.><<<<<<<...._____~~~.................................>>>>>>>.)))------..)))):::::\n",
      "URS0000D65CFC_12908/1-95\n",
      "+  ACAGACCGCCAGACCCGGCUUAUCG-------------------------------CCAGAUAAGCUAUGA--CCCGUGCAAGCCGGG-UGCGCCUC---CCGCGU-----------------------------------GGAGGCGC-GGCGCUUAU--GGUCAAGGA\n",
      "URS0000D677E9_12908/1-72\n",
      "-  AAAAGGCACAAGGCCCA-----------------------------------------------------G-UCCCGUGGAAGCCGGGACCGCCCC-----UUCG--------------------------------------GGGGCGCGGCGCUUAC-AGCCACAAAC\n",
      "URS0000D6B2EB_12908/1-81\n",
      "+  ACCGCCCGCAAGGCCGACGC-----AUAA---------------------------------CGCGCC--G--CCGGUGCAAGCCCGG-CCACCCU-----GCAA--------------------------------------GGGGUG-GGCGCUCAU--GGGUAACAA\n",
      "URS0000D68218_12908/1-81\n",
      "+  UUGACCCGCAAGGCCGACGC-----AUAA---------------------------------CGCGCC--G--CCGGUGCAAGCCCGG-CCACCCU-----ACAA--------------------------------------GGGGUG-GGCGCUUAU--GGGCAACAA\n",
      "URS0000D6801D_12908/1-72\n",
      "-  ACGCAGGGCAAGGCCCA-----------------------------------------------------G-UCCCGUGAAAGCCGGGACCGCCCC-----UUCG--------------------------------------GGGGCGCGGCGCUCAU-GCCUGCUGAA\n",
      "URS0000D65DB1_12908/1-79\n",
      "+  AAAGCCCGCAAGGCCGACGG----CAUCC---------------------------------GCCGCC--G--CUGGUGCAAGUCCAG-CCGCC-------UAUAU---------------------------------------GGCG-GGCGCUCAU--GGGCAAGAA\n",
      "total\t\t\t: 6 seq\n",
      "variable_loop+\t: 4 seq\n"
     ]
    }
   ],
   "source": [
    "# load structure info from sto file\n",
    "from Bio import AlignIO\n",
    "from pprint import pprint\n",
    "\n",
    "alignment = AlignIO.read(f\"../{data_dir}/RF02681_unique_tidy_notrunc.sto\", \"stockholm\")\n",
    "ss_cons = alignment.column_annotations[\"secondary_structure\"]\n",
    "pprint(alignment.column_annotations)\n",
    "print()\n",
    "variable_loop = \"<<<.....____~~~~~~~~~~~~~~~~~~~~~~~~~~~.......>>>\"\n",
    "start = ss_cons.find(variable_loop)\n",
    "end   = start + len(variable_loop)\n",
    "\n",
    "train_index, _ = train_test_split(range(len(alignment)), test_size=0.3, random_state = 42)\n",
    "\n",
    "# check seq of train_index has variable loop\n",
    "has_variable_loop = []\n",
    "idx = 0\n",
    "print(\"  \",ss_cons)\n",
    "for i in train_index:\n",
    "#     print(set(alignment[i].seq[start:end]))\n",
    "    if set(alignment[i].seq[start:end]) == set(\"-\"):\n",
    "#         print(alignment[i].id)\n",
    "#         print(alignment[i].seq[start:end])\n",
    "        has_variable_loop.append(False)\n",
    "        print(f\"{alignment[i].id}\")\n",
    "        print(f\"-  {alignment[i].seq}\")\n",
    "    else:\n",
    "        has_variable_loop.append(True)\n",
    "        print(f\"{alignment[i].id}\")\n",
    "\n",
    "        print(f\"+  {alignment[i].seq}\")\n",
    "    idx += 1\n",
    "    if idx > 5:\n",
    "        break\n",
    "print(f\"total\\t\\t\\t: {len(has_variable_loop)} seq\")\n",
    "print(f\"variable_loop+\\t: {sum(has_variable_loop)} seq\")\n",
    "\n"
   ]
  },
  {
   "cell_type": "code",
   "execution_count": 17,
   "id": "0bb29703",
   "metadata": {},
   "outputs": [
    {
     "data": {
      "text/plain": [
       "'.................(((...........................................)))....(..(((.........))).)(((((((.............................................))))))).....................'"
      ]
     },
     "execution_count": 17,
     "metadata": {},
     "output_type": "execute_result"
    }
   ],
   "source": []
  },
  {
   "cell_type": "code",
   "execution_count": 32,
   "id": "f420b9b9",
   "metadata": {},
   "outputs": [
    {
     "name": "stdout",
     "output_type": "stream",
     "text": [
      "ACAGACCGCCAGACCCGGCUUAUCGCCAGAUAAGCUAUGACCCGUGCAAGCCGGGUGCGCCUCCCGCGUGGAGGCGCGGCGCUUAUGGUCAAGGA\n",
      ":::((((.....(((,,(((............))),,..((((_________))))(((((((._____.))))))))))......)))):::::\n",
      "AAAAGGCACAAGGCCCAGUCCCGUGGAAGCCGGGACCGCCCCUUCGGGGGCGCGGCGCUUACAGCCACAAAC\n",
      ":::((((.....(((,,(.(((_________))).)((((((____)))))).))).......)))):::::\n"
     ]
    }
   ],
   "source": [
    "import util\n",
    "seq,ss = util.recover_seqss_from_stk(\n",
    "    seq_aligned= \"ACAGACCGCCAGACCCGGCUUAUCG-------------------------------CCAGAUAAGCUAUGA--CCCGUGCAAGCCGGG-UGCGCCUC---CCGCGU-----------------------------------GGAGGCGC-GGCGCUUAU--GGUCAAGGA\",\n",
    "    SS_cons = alignment.column_annotations[\"secondary_structure\"])\n",
    "\n",
    "print(seq)\n",
    "print(ss)\n",
    "\n",
    "\n",
    "seq,ss = util.recover_seqss_from_stk(\n",
    "    seq_aligned= \"AAAAGGCACAAGGCCCA-----------------------------------------------------G-UCCCGUGGAAGCCGGGACCGCCCC-----UUCG--------------------------------------GGGGCGCGGCGCUUAC-AGCCACAAAC\",\n",
    "    SS_cons = alignment.column_annotations[\"secondary_structure\"])\n",
    "\n",
    "print(seq)\n",
    "print(ss)"
   ]
  },
  {
   "cell_type": "code",
   "execution_count": 15,
   "id": "emotional-anime",
   "metadata": {
    "code_folding": [
     0
    ]
   },
   "outputs": [
    {
     "data": {
      "text/plain": [
       "(79, 2)"
      ]
     },
     "execution_count": 15,
     "metadata": {},
     "output_type": "execute_result"
    }
   ],
   "source": [
    "# embedding\n",
    "from sklearn.decomposition import PCA\n",
    "from sklearn.manifold import TSNE\n",
    "import matplotlib.pyplot as plt \n",
    "\n",
    "\n",
    "pca = PCA(n_components=2).fit(z_mu_train)\n",
    "embed_tsne = TSNE(n_components=2, random_state = 42).fit_transform(z_mu_train)\n",
    "embed_pca = pca.transform(z_mu_train)\n",
    "\n",
    "embed_pca.shape"
   ]
  },
  {
   "cell_type": "code",
   "execution_count": 33,
   "id": "present-delivery",
   "metadata": {
    "scrolled": true
   },
   "outputs": [
    {
     "name": "stdout",
     "output_type": "stream",
     "text": [
      "(79, 2)\n"
     ]
    },
    {
     "data": {
      "image/png": "[encoded data removed]",
      "text/plain": [
       "<Figure size 432x288 with 1 Axes>"
      ]
     },
     "metadata": {
      "needs_background": "light"
     },
     "output_type": "display_data"
    }
   ],
   "source": [
    "embed = embed_tsne\n",
    "\n",
    "x,y = 0,1\n",
    "plt.scatter(\n",
    "    [embed[i][x] for i in range(len(embed)) if has_variable_loop[i]],\n",
    "    [embed[i][y] for i in range(len(embed)) if has_variable_loop[i]],\n",
    "    label = \"variable stem-loop(+)\",\n",
    "    color = \"orange\"\n",
    "    )\n",
    "plt.scatter(\n",
    "    [embed[i][x] for i in range(len(embed)) if not has_variable_loop[i]],\n",
    "    [embed[i][y] for i in range(len(embed)) if not has_variable_loop[i]],\n",
    "    label = \"variable stem-loop(−)\",\n",
    "    color = \"blue\"\n",
    "    )\n",
    "\n",
    "plt.grid(alpha=0.3)\n",
    "# plt.xlim(-30, 50)\n",
    "plt.title(f\"tSNE of latent variables (twister-sister ribozyme)\", fontsize=16)\n",
    "plt.legend()\n",
    "print(embed.shape)\n",
    "# plt.savefig(f\"../../outputs/figures/figure3d.png\", dpi=300, transparent = True)\n",
    "# plt.savefig(f\"../../outputs/figures/figure3d.pdf\", transparent = True)"
   ]
  },
  {
   "cell_type": "code",
   "execution_count": null,
   "id": "db715e4c",
   "metadata": {},
   "outputs": [],
   "source": [
    "# select sequences with/without variable loop\n"
   ]
  },
  {
   "cell_type": "markdown",
   "id": "based-strand",
   "metadata": {},
   "source": [
    "# figure 3c"
   ]
  },
  {
   "cell_type": "code",
   "execution_count": 13,
   "id": "1436f569",
   "metadata": {},
   "outputs": [],
   "source": [
    "# compare phylogenetic distance and lanten distance\n",
    "from Bio.Phylo.TreeConstruction import DistanceCalculator\n",
    "from Bio import AlignIO\n",
    "from Bio.Seq import Seq\n",
    "from Bio.Align import MultipleSeqAlignment\n",
    "\n",
    "\n",
    "alignment = AlignIO.read(f\"../{data_dir}/RF02681_unique_tidy_notrunc_train.sto\", \"stockholm\")\n",
    "dna_alignment = []\n",
    "for aln in alignment:\n",
    "    aln.seq = Seq(str(aln.seq).replace(\"U\", \"T\"))\n",
    "    dna_alignment.append(aln)\n",
    "dna_alignment = MultipleSeqAlignment(dna_alignment)\n",
    "calculator = DistanceCalculator('blosum62')\n",
    "dm = calculator.get_distance(dna_alignment)"
   ]
  },
  {
   "cell_type": "code",
   "execution_count": 22,
   "id": "3d830be3",
   "metadata": {},
   "outputs": [
    {
     "data": {
      "image/png": "[encoded data removed]",
      "text/plain": [
       "<Figure size 432x288 with 1 Axes>"
      ]
     },
     "metadata": {
      "needs_background": "light"
     },
     "output_type": "display_data"
    }
   ],
   "source": [
    "dm_phylo = np.array(dm)\n",
    "\n",
    "dm_latent = np.zeros([len(z_mu_train), len(z_mu_train)])\n",
    "for i in range(len(z_mu_train)):\n",
    "    for j in range(len(z_mu_train)):\n",
    "        dm_latent[i][j] = np.linalg.norm(z_mu_train[i] - z_mu_train[j])\n",
    "\n",
    "dm_phylo_flatten = dm_phylo[np.triu_indices(len(dm_phylo), k=1)]\n",
    "dm_latent_flatten = dm_latent[np.triu_indices(len(dm_latent), k=1)]\n",
    "\n",
    "\n",
    "from scipy.stats import spearmanr\n",
    "corr,p = spearmanr(dm_phylo_flatten, dm_latent_flatten)\n",
    "\n",
    "plt.scatter(dm_phylo_flatten, dm_latent_flatten, alpha=0.3, marker=\".\")\n",
    "plt.xlabel(\"Phylogenetic distance\")\n",
    "plt.ylabel(\"Latent distance\")\n",
    "plt.grid(alpha=0.3)\n",
    "plt.title(f\"Spearman's ρ = {round(corr,4)}\", fontsize=16)\n",
    "\n",
    "# plt.savefig(f\"../../outputs/figures/figure3c.png\", dpi=300, transparent = True)\n",
    "# plt.savefig(f\"../../outputs/figures/figure3c.pdf\", transparent = True)"
   ]
  },
  {
   "cell_type": "code",
   "execution_count": 21,
   "id": "415c1c85",
   "metadata": {},
   "outputs": [
    {
     "name": "stdout",
     "output_type": "stream",
     "text": [
      "ls: ../../outputs/diverse/ts/outputs/: No such file or directory\n"
     ]
    }
   ],
   "source": [
    "!ls ../{log_dir}/outputs/"
   ]
  },
  {
   "cell_type": "code",
   "execution_count": null,
   "id": "57b58b20",
   "metadata": {},
   "outputs": [],
   "source": []
  }
 ],
 "metadata": {
  "kernelspec": {
   "display_name": "Python 3",
   "language": "python",
   "name": "python3"
  },
  "language_info": {
   "codemirror_mode": {
    "name": "ipython",
    "version": 3
   },
   "file_extension": ".py",
   "mimetype": "text/x-python",
   "name": "python",
   "nbconvert_exporter": "python",
   "pygments_lexer": "ipython3",
   "version": "3.7.7"
  },
  "toc": {
   "base_numbering": 1,
   "nav_menu": {},
   "number_sections": true,
   "sideBar": true,
   "skip_h1_title": false,
   "title_cell": "Table of Contents",
   "title_sidebar": "Contents",
   "toc_cell": false,
   "toc_position": {},
   "toc_section_display": true,
   "toc_window_display": false
  }
 },
 "nbformat": 4,
 "nbformat_minor": 5
}
