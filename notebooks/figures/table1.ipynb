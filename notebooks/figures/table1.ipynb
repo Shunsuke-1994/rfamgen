{
 "cells": [
  {
   "cell_type": "markdown",
   "metadata": {},
   "source": [
    "# prep table1 "
   ]
  },
  {
   "cell_type": "code",
   "execution_count": 55,
   "metadata": {},
   "outputs": [
    {
     "name": "stdout",
     "output_type": "stream",
     "text": [
      "/Users/sumishunsuke/Desktop/RNA/genzyme\n"
     ]
    }
   ],
   "source": [
    "%cd /Users/sumishunsuke/Desktop/RNA/genzyme\n",
    "\n",
    "import os \n",
    "import sys\n",
    "import subprocess\n",
    "from pprint import pprint \n",
    "sys.path.append(\"src\")\n",
    "\n",
    "import pandas as pd \n",
    "from Bio import SeqIO\n"
   ]
  },
  {
   "attachments": {},
   "cell_type": "markdown",
   "metadata": {},
   "source": [
    "## pred activity by RfamGen"
   ]
  },
  {
   "cell_type": "code",
   "execution_count": 22,
   "metadata": {},
   "outputs": [
    {
     "name": "stdout",
     "output_type": "stream",
     "text": [
      "['./datasets/ForDMSdata/RF00005_CCU/RF00005_unique_CCUanticodon_notrunc_traceback_onehot_cm_test.h5', './datasets/ForDMSdata/RF00005_CCU/RF00005_unique_CCUanticodon_notrunc_traceback_onehot_cm_test_weight_threshold0p2.h5']\n",
      "['./datasets/ForDMSdata/RF00234/RF00234_unique_addtemp_notrunc_traceback_onehot_cm_test.h5', './datasets/ForDMSdata/RF00234/RF00234_unique_addtemp_notrunc_traceback_onehot_cm_test_weight_threshold0p2.h5']\n",
      "['./datasets/ForDMSdata/RF03160/RF03160_unique_addtemp_AGUCT_notrunc_traceback_onehot_cm_test.h5', './datasets/ForDMSdata/RF03160/RF03160_unique_addtemp_AGUCT_notrunc_traceback_onehot_cm_test_weight_threshold0p2.h5']\n"
     ]
    }
   ],
   "source": [
    "rfams = [\"RF00005_CCU\", \"RF00234\", \"RF03160\"]\n",
    "\n",
    "for rfam in rfams:\n",
    "    h5 = !ls ./datasets/ForDMSdata/{rfam}/*cm*test*.h5\n",
    "    print(h5)"
   ]
  },
  {
   "attachments": {},
   "cell_type": "markdown",
   "metadata": {},
   "source": [
    "### select best model using test data"
   ]
  },
  {
   "cell_type": "code",
   "execution_count": 44,
   "metadata": {},
   "outputs": [],
   "source": [
    "dict_best = {}\n",
    "\n",
    "for rfam in rfams:\n",
    "    h5  = !ls ./datasets/ForDMSdata/{rfam}/*cm*test.h5\n",
    "    h5 = h5[0]\n",
    "    h5w = !ls ./datasets/ForDMSdata/{rfam}/*cm*test*weight*.h5\n",
    "    h5w = h5w[0]\n",
    "\n",
    "    # load final ckpt\n",
    "    ckpts = !ls -t ./outputs/ForDMSdata/{rfam}/timecourse_cmvae/*.pt\n",
    "    ckpts_dict = {f\"trial{str(i).zfill(2)}\":{} for i in range(10)}\n",
    "    for ckpt in ckpts:\n",
    "        ckpt_name = ckpt.split(\"/\")[-1].split(\"_\")[-1].replace(\".pt\", \"\")\n",
    "        epoch = int(ckpt.split(\"/\")[-1].split(\"_\")[-2].replace(\"epoch\", \"\"))\n",
    "        ckpts_dict[ckpt_name][epoch] = ckpt\n",
    "    ckpt_final = {}\n",
    "    for trial, epoch_dict in ckpts_dict.items():\n",
    "        ckpt_final[trial] = epoch_dict[max(epoch_dict.keys())]\n",
    "    # ckpt_final[\"trial00\"]\n",
    "\n",
    "    besttest = 10000000\n",
    "    for ckpt in ckpt_final.values():\n",
    "\n",
    "        cmd = f\"\"\"python scripts/eval_CMVAE_by_test.py --X_test {h5} --w_test {h5w} \\\n",
    "            --config ./outputs/ForDMSdata/{rfam}/timecourse_cmvae/config_trial00.yaml \\\n",
    "            --ckpt {ckpt} \n",
    "            \"\"\"\n",
    "        \n",
    "        res = subprocess.run(cmd, shell=True,capture_output=True)\n",
    "        if besttest > float(res.stdout.decode()):\n",
    "            besttest = float(res.stdout.decode())\n",
    "            dict_best[rfam] = (ckpt, besttest)\n",
    "            \n"
   ]
  },
  {
   "cell_type": "code",
   "execution_count": 45,
   "metadata": {},
   "outputs": [
    {
     "name": "stdout",
     "output_type": "stream",
     "text": [
      "{'RF00005_CCU': ('./outputs/ForDMSdata/RF00005_CCU/timecourse_cmvae/model_epoch60_trial04.pt',\n",
      "                 2.534673621225204),\n",
      " 'RF00234': ('./outputs/ForDMSdata/RF00234/timecourse_cmvae/model_epoch79_trial03.pt',\n",
      "             504.35129182235056),\n",
      " 'RF03160': ('./outputs/ForDMSdata/RF03160/timecourse_cmvae/model_epoch64_trial07.pt',\n",
      "             13.140731165231752)}\n"
     ]
    }
   ],
   "source": [
    "pprint(dict_best)"
   ]
  },
  {
   "attachments": {},
   "cell_type": "markdown",
   "metadata": {},
   "source": [
    "## load activity data"
   ]
  },
  {
   "cell_type": "code",
   "execution_count": 46,
   "metadata": {},
   "outputs": [
    {
     "data": {
      "text/plain": [
       "{'RF00005_CCU': ('./outputs/ForDMSdata/RF00005_CCU/timecourse_cmvae/model_epoch60_trial04.pt',\n",
       "  2.534673621225204),\n",
       " 'RF00234': ('./outputs/ForDMSdata/RF00234/timecourse_cmvae/model_epoch79_trial03.pt',\n",
       "  504.35129182235056),\n",
       " 'RF03160': ('./outputs/ForDMSdata/RF03160/timecourse_cmvae/model_epoch64_trial07.pt',\n",
       "  13.140731165231752)}"
      ]
     },
     "execution_count": 46,
     "metadata": {},
     "output_type": "execute_result"
    }
   ],
   "source": [
    "dict_best"
   ]
  },
  {
   "cell_type": "code",
   "execution_count": 71,
   "metadata": {},
   "outputs": [
    {
     "data": {
      "text/plain": [
       "[0.8629249865083648,\n",
       " 0.8585795097423005,\n",
       " 0.8523351648351648,\n",
       " 0.8518760907504364,\n",
       " 0.8509212730318257]"
      ]
     },
     "execution_count": 71,
     "metadata": {},
     "output_type": "execute_result"
    }
   ],
   "source": [
    "activity = {}\n",
    "\n",
    "# RF00005_CCU\n",
    "activity[\"RF00005_CCU\"] = pd.read_table(f\"./datasets/ForDMSdata/RF00005_CCU/activity/FitnessData.txt\", sep = \"\\t\", skiprows =6)[\"Fit\"].tolist()\n",
    "\n",
    "\n",
    "# RF00234\n",
    "df = pd.read_csv(\"./datasets/ForDMSdata/RF00234/activity/additional_data_andearson_2020/glmS ribozyme RNA array_Source Data/dataframe1_kobs_kcat_KM_rescues.csv\")\n",
    "df = df.dropna(subset = [\"kcat\"])\n",
    "df = df[df[\"MismatchCount\"] >0]\n",
    "activity[\"RF00234\"] = df[\"kcat\"].tolist()\n",
    "\n",
    "\n",
    "#RF01788\n",
    "cleavage_data = f\"./datasets/ForDMSdata/RF01788/activity/sb7b00367_si_001.xlsx\"\n",
    "df_cleavage = pd.read_excel(cleavage_data)\n",
    "activity[\"RF01788\"] = df_cleavage[\"FC\"].tolist()\n",
    "\n",
    "\n",
    "# RF03160\n",
    "info_mut = []\n",
    "fasta = open(\"./datasets/ForDMSdata/RF03160/activity/Kobori2016.fa\", \"r\")\n",
    "for record in SeqIO.parse(fasta, \"fasta\"):\n",
    "    mut = record.description.split(\" \")[-1].split(\"/\")\n",
    "    if len(mut) == 1:\n",
    "        mut = [mut[0], mut[0]]\n",
    "    info_mut.append(mut)\n",
    "\n",
    "df_act = pd.read_excel(\"./datasets/ForDMSdata/RF03160/activity/Kobori_ACIE_2016_Supporting_Data.xlsx\", skiprows=2, index_col = 0)\n",
    "fitness = []\n",
    "for mut in info_mut: \n",
    "    fitness.append(df_act[mut[0]][mut[1]])\n",
    "activity[\"RF03160\"] = fitness\n",
    "\n",
    "\n",
    "activity[\"RF01788\"][:5]"
   ]
  },
  {
   "attachments": {},
   "cell_type": "markdown",
   "metadata": {},
   "source": [
    "## pred DMS "
   ]
  },
  {
   "cell_type": "code",
   "execution_count": 58,
   "metadata": {},
   "outputs": [
    {
     "name": "stdout",
     "output_type": "stream",
     "text": [
      "./datasets/ForDMSdata/RF00005_CCU/activity/Li2016_notrunc_traceback_onehot_cm.h5\n",
      "./datasets/ForDMSdata/RF00234/activity/Andreasson2020_notrunc_traceback_onehot_cm.h5\n",
      "./datasets/ForDMSdata/RF01788/activity/Kobori2018_notrunc_traceback_onehot_cm.h5\n",
      "./datasets/ForDMSdata/RF01846/activity/E1_Small_1_30C_Glu_traceback_onehot_cm.h5\n",
      "./datasets/ForDMSdata/RF01846/activity/E2_Small_2_37C_Glu_traceback_onehot_cm.h5\n",
      "./datasets/ForDMSdata/RF01846/activity/E4_Small_3_30C_Gal_traceback_onehot_cm.h5\n",
      "./datasets/ForDMSdata/RF01846/activity/E5_Big_1_30C_Glu_traceback_onehot_cm.h5\n",
      "./datasets/ForDMSdata/RF03160/activity/Kobori2016_notrunc_traceback_onehot_cm.h5\n"
     ]
    }
   ],
   "source": [
    "!ls ./datasets/ForDMSdata/*/activity/*cm.h5"
   ]
  },
  {
   "cell_type": "code",
   "execution_count": 64,
   "metadata": {},
   "outputs": [
    {
     "name": "stdout",
     "output_type": "stream",
     "text": [
      "[W NNPACK.cpp:80] Could not initialize NNPACK! Reason: Unsupported hardware.\n",
      "\n",
      "[W NNPACK.cpp:80] Could not initialize NNPACK! Reason: Unsupported hardware.\n",
      "\n",
      "[W NNPACK.cpp:80] Could not initialize NNPACK! Reason: Unsupported hardware.\n",
      "\n"
     ]
    }
   ],
   "source": [
    "for rfam in [\"RF00005_CCU\", \"RF00234\", \"RF03160\"]:\n",
    "    dms_trsp = !ls ./datasets/ForDMSdata/{rfam}/activity/*cm.h5\n",
    "    dms_trsp = dms_trsp[0]\n",
    "\n",
    "    best_ckpt = dict_best[rfam][0]\n",
    "\n",
    "    cmd = f\"\"\"\n",
    "    python ./scripts/pred_activity_with_CMVAE.py \\\n",
    "    --in_trsp {dms_trsp} \\\n",
    "    --ckpt {best_ckpt} \\\n",
    "    --model_config ./outputs/ForDMSdata/{rfam}/timecourse_cmvae/config_trial00.yaml \\\n",
    "    --n_samples 5 \\\n",
    "    --output ./outputs/ForDMSdata/{rfam}/timecourse_cmvae/elbo_dms_final_epoch.txt\n",
    "    \"\"\"\n",
    "    res = subprocess.run(cmd, shell = True, capture_output = True)\n",
    "    print(res.stderr.decode())"
   ]
  },
  {
   "attachments": {},
   "cell_type": "markdown",
   "metadata": {},
   "source": [
    "## calc spearman of elbo v.s. dms"
   ]
  },
  {
   "cell_type": "code",
   "execution_count": null,
   "metadata": {},
   "outputs": [],
   "source": [
    "def load_elbo_results(file):\n",
    "    eve = []\n",
    "    with open(file, \"r\") as f: \n",
    "        for line in f:\n",
    "            if not line.startswith(\"#\"):\n",
    "                eve.append(float(line))\n",
    "\n",
    "    return eve\n",
    "\n",
    "dict_elbo = {}\n",
    "for rfam in [\"RF00005_CCU\", \"RF00234\", \"RF03160\"]:\n",
    "    file = f\"./outputs/ForDMSdata/{rfam}/timecourse_cmvae/elbo_dms_final_epoch.txt\"\n",
    "    dict_elbo[rfam] = load_elbo_results(file)\n",
    "\n",
    "dict_elbo"
   ]
  },
  {
   "cell_type": "code",
   "execution_count": 70,
   "metadata": {},
   "outputs": [
    {
     "name": "stdout",
     "output_type": "stream",
     "text": [
      "RF00005_CCU:\tcorr:0.5562 (pval: 0.0000)\n",
      "RF00234:\tcorr:0.5457 (pval: 0.0000)\n",
      "RF03160:\tcorr:0.4254 (pval: 0.0000)\n"
     ]
    }
   ],
   "source": [
    "from scipy.stats import spearmanr\n",
    "\n",
    "for rfam in rfams:\n",
    "    corr, pval = spearmanr(dict_elbo[rfam], activity[rfam])\n",
    "    print(f\"{rfam}:\\tcorr:{abs(corr):.4f} (pval: {pval:.4f})\")\n"
   ]
  },
  {
   "cell_type": "code",
   "execution_count": null,
   "metadata": {},
   "outputs": [],
   "source": []
  }
 ],
 "metadata": {
  "kernelspec": {
   "display_name": "genzyme",
   "language": "python",
   "name": "python3"
  },
  "language_info": {
   "codemirror_mode": {
    "name": "ipython",
    "version": 3
   },
   "file_extension": ".py",
   "mimetype": "text/x-python",
   "name": "python",
   "nbconvert_exporter": "python",
   "pygments_lexer": "ipython3",
   "version": "3.7.7"
  },
  "orig_nbformat": 4
 },
 "nbformat": 4,
 "nbformat_minor": 2
}
