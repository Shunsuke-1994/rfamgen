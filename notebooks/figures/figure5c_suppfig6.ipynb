{
 "cells": [
  {
   "attachments": {},
   "cell_type": "markdown",
   "metadata": {},
   "source": [
    "# figure5c: comparison of kcat param between natural and generated"
   ]
  },
  {
   "cell_type": "code",
   "execution_count": 1,
   "metadata": {},
   "outputs": [],
   "source": [
    "import pandas as pd\n",
    "import numpy as np\n",
    "import matplotlib.pyplot as plt\n"
   ]
  },
  {
   "cell_type": "code",
   "execution_count": 2,
   "metadata": {},
   "outputs": [
    {
     "name": "stdout",
     "output_type": "stream",
     "text": [
      "../../../genzyme_ngs/outputs/220822/cleave.csv\n",
      "../../../genzyme_ngs/outputs/220822/depth.csv\n",
      "../../../genzyme_ngs/outputs/220822/kinetics_param_dup1.csv\n",
      "../../../genzyme_ngs/outputs/220822/kinetics_param_dup2.csv\n",
      "../../../genzyme_ngs/outputs/220822/rate_cleaved.csv\n",
      "../../../genzyme_ngs/outputs/220822/uncleave.csv\n"
     ]
    }
   ],
   "source": [
    "log_dir = \"../../../genzyme_ngs/outputs/220822/\"\n",
    "!ls {log_dir}*csv"
   ]
  },
  {
   "cell_type": "code",
   "execution_count": 3,
   "metadata": {},
   "outputs": [
    {
     "name": "stdout",
     "output_type": "stream",
     "text": [
      "#seq of natural: 761\n",
      "#seq of generated: 1000\n"
     ]
    }
   ],
   "source": [
    "df = pd.read_csv(log_dir + \"kinetics_param_dup1.csv\")\n",
    "df_nat = df[df[\"Unnamed: 0\"].str.contains(\"/\")]\n",
    "df_gen = df[df[\"Unnamed: 0\"].str.contains(\"gen\")]\n",
    "\n",
    "print(\"#seq of natural:\", df_nat.shape[0])\n",
    "print(\"#seq of generated:\", df_gen.shape[0])"
   ]
  },
  {
   "cell_type": "code",
   "execution_count": 4,
   "metadata": {},
   "outputs": [
    {
     "name": "stdout",
     "output_type": "stream",
     "text": [
      "p-value: 5.222849228997338e-45\n",
      "corr: 232209.0\n"
     ]
    },
    {
     "data": {
      "image/png": "[encoded data removed]",
      "text/plain": [
       "<Figure size 432x288 with 1 Axes>"
      ]
     },
     "metadata": {
      "needs_background": "light"
     },
     "output_type": "display_data"
    }
   ],
   "source": [
    "_, bins, _ = plt.hist(np.log2(df_nat[\"kcat_mean_1st\"]), bins=50, alpha=0.7, label=f\"Natural      ({df_nat.shape[0]} seq)\", density=True, color = \"gray\")\n",
    "plt.hist(np.log2(df_gen[\"kcat_mean_1st\"]), bins=bins, alpha=0.7, label=f\"Generated ({df_gen.shape[0]} seq)\", density=True, color = \"darkorange\")\n",
    "plt.grid(alpha = 0.3)\n",
    "plt.xlabel(\"$log_2(k_{cat})$\")\n",
    "plt.ylabel(\"Frequency\", fontsize=12)\n",
    "plt.legend()\n",
    "# plt.savefig(\"../../outputs/figures/figure5d.png\", dpi=300, transparent=True)\n",
    "plt.savefig(\"../../outputs/figures/figure5d.pdf\", transparent=True)\n",
    "\n",
    "\n",
    "from scipy.stats import mannwhitneyu\n",
    "corr, p = mannwhitneyu(df_nat[\"kcat_mean_1st\"], df_gen[\"kcat_mean_1st\"])\n",
    "print(f\"p-value: {p}\")\n",
    "print(f\"corr: {corr}\")\n"
   ]
  },
  {
   "attachments": {},
   "cell_type": "markdown",
   "metadata": {},
   "source": [
    "# supplementary figure 6a: "
   ]
  },
  {
   "cell_type": "code",
   "execution_count": 5,
   "metadata": {},
   "outputs": [
    {
     "name": "stdout",
     "output_type": "stream",
     "text": [
      "(1861, 12)\n",
      "(1858, 12)\n"
     ]
    },
    {
     "data": {
      "text/html": [
       "<div>\n",
       "<style scoped>\n",
       "    .dataframe tbody tr th:only-of-type {\n",
       "        vertical-align: middle;\n",
       "    }\n",
       "\n",
       "    .dataframe tbody tr th {\n",
       "        vertical-align: top;\n",
       "    }\n",
       "\n",
       "    .dataframe thead th {\n",
       "        text-align: right;\n",
       "    }\n",
       "</style>\n",
       "<table border=\"1\" class=\"dataframe\">\n",
       "  <thead>\n",
       "    <tr style=\"text-align: right;\">\n",
       "      <th></th>\n",
       "      <th>kcat_mean_1st</th>\n",
       "      <th>kcat_std_1st</th>\n",
       "      <th>kcat_5%_1st</th>\n",
       "      <th>kcat_95%_1st</th>\n",
       "      <th>tbase_mean_1st</th>\n",
       "      <th>tbase_std_1st</th>\n",
       "      <th>tbase_5%_1st</th>\n",
       "      <th>tbase_95%_1st</th>\n",
       "      <th>_RETURN_mean_1st</th>\n",
       "      <th>_RETURN_std_1st</th>\n",
       "      <th>_RETURN_5%_1st</th>\n",
       "      <th>_RETURN_95%_1st</th>\n",
       "    </tr>\n",
       "  </thead>\n",
       "  <tbody>\n",
       "    <tr>\n",
       "      <th>JOTN01000018.1/8921-9077_wild_15</th>\n",
       "      <td>0.005023</td>\n",
       "      <td>0.000205</td>\n",
       "      <td>0.004684</td>\n",
       "      <td>0.005355</td>\n",
       "      <td>7.562647</td>\n",
       "      <td>0.546541</td>\n",
       "      <td>6.666773</td>\n",
       "      <td>8.444406</td>\n",
       "      <td>0.037272</td>\n",
       "      <td>0.003063</td>\n",
       "      <td>0.032514</td>\n",
       "      <td>0.042408</td>\n",
       "    </tr>\n",
       "    <tr>\n",
       "      <th>FR903934.1/5471-5622</th>\n",
       "      <td>0.008449</td>\n",
       "      <td>0.006751</td>\n",
       "      <td>0.002068</td>\n",
       "      <td>0.020488</td>\n",
       "      <td>1.089378</td>\n",
       "      <td>1.096704</td>\n",
       "      <td>0.177480</td>\n",
       "      <td>3.323710</td>\n",
       "      <td>0.008799</td>\n",
       "      <td>0.012180</td>\n",
       "      <td>0.000754</td>\n",
       "      <td>0.029142</td>\n",
       "    </tr>\n",
       "  </tbody>\n",
       "</table>\n",
       "</div>"
      ],
      "text/plain": [
       "                                  kcat_mean_1st  kcat_std_1st  kcat_5%_1st  \\\n",
       "JOTN01000018.1/8921-9077_wild_15       0.005023      0.000205     0.004684   \n",
       "FR903934.1/5471-5622                   0.008449      0.006751     0.002068   \n",
       "\n",
       "                                  kcat_95%_1st  tbase_mean_1st  tbase_std_1st  \\\n",
       "JOTN01000018.1/8921-9077_wild_15      0.005355        7.562647       0.546541   \n",
       "FR903934.1/5471-5622                  0.020488        1.089378       1.096704   \n",
       "\n",
       "                                  tbase_5%_1st  tbase_95%_1st  \\\n",
       "JOTN01000018.1/8921-9077_wild_15      6.666773       8.444406   \n",
       "FR903934.1/5471-5622                  0.177480       3.323710   \n",
       "\n",
       "                                  _RETURN_mean_1st  _RETURN_std_1st  \\\n",
       "JOTN01000018.1/8921-9077_wild_15          0.037272         0.003063   \n",
       "FR903934.1/5471-5622                      0.008799         0.012180   \n",
       "\n",
       "                                  _RETURN_5%_1st  _RETURN_95%_1st  \n",
       "JOTN01000018.1/8921-9077_wild_15        0.032514         0.042408  \n",
       "FR903934.1/5471-5622                    0.000754         0.029142  "
      ]
     },
     "execution_count": 5,
     "metadata": {},
     "output_type": "execute_result"
    }
   ],
   "source": [
    "df_dup1 = pd.read_csv(log_dir + \"kinetics_param_dup1.csv\", index_col=0)\n",
    "df_dup2 = pd.read_csv(log_dir + \"kinetics_param_dup2.csv\", index_col=0)\n",
    "print(df_dup1.shape)\n",
    "print(df_dup2.shape)\n",
    "df_dup1.head(2)"
   ]
  },
  {
   "cell_type": "code",
   "execution_count": 6,
   "metadata": {},
   "outputs": [
    {
     "data": {
      "text/plain": [
       "1857"
      ]
     },
     "execution_count": 6,
     "metadata": {},
     "output_type": "execute_result"
    }
   ],
   "source": [
    "idx_common = list(set(df_dup2.index) & set(df_dup1.index))\n",
    "len(idx_common)"
   ]
  },
  {
   "cell_type": "code",
   "execution_count": 7,
   "metadata": {},
   "outputs": [
    {
     "name": "stderr",
     "output_type": "stream",
     "text": [
      "/Users/sumishunsuke/opt/miniconda3/envs/genzyme/lib/python3.7/site-packages/pandas/core/series.py:726: RuntimeWarning: invalid value encountered in log2\n",
      "  result = getattr(ufunc, method)(*inputs, **kwargs)\n"
     ]
    },
    {
     "data": {
      "text/plain": [
       "(-20.0, 5.0)"
      ]
     },
     "execution_count": 7,
     "metadata": {},
     "output_type": "execute_result"
    },
    {
     "data": {
      "image/png": "[encoded data removed]",
      "text/plain": [
       "<Figure size 360x360 with 1 Axes>"
      ]
     },
     "metadata": {
      "needs_background": "light"
     },
     "output_type": "display_data"
    }
   ],
   "source": [
    "from scipy.stats import spearmanr\n",
    "data_1 = df_dup1[\"kcat_mean_1st\"].loc[idx_common]\n",
    "data_2 = df_dup2[\"kcat_mean_2nd\"].loc[idx_common]\n",
    "\n",
    "# scatter plot with std error\n",
    "plt.figure(figsize=(5, 5))\n",
    "plt.errorbar(\n",
    "    x = np.log2(data_1),\n",
    "    y = np.log2(data_2),\n",
    "    xerr = [\n",
    "        np.log2(data_1) - np.log2(data_1 - df_dup1[\"kcat_std_1st\"].loc[idx_common]),\n",
    "        np.log2(data_1 + df_dup1[\"kcat_std_1st\"].loc[idx_common]) - np.log2(data_1)\n",
    "        ],\n",
    "    yerr = [\n",
    "        np.log2(data_2) - np.log2(data_2 - df_dup2[\"kcat_std_2nd\"].loc[idx_common]),\n",
    "        np.log2(data_2 + df_dup2[\"kcat_std_2nd\"].loc[idx_common]) - np.log2(data_2)\n",
    "        ],\n",
    "        label = \"$log_2(k_{cat} \\\\pm std)$\",\n",
    "\n",
    "    # xerr = [\n",
    "    #     np.log2(data_1) - np.log2(df_dup1[\"kcat_5%_1st\"].loc[idx_common]),\n",
    "    #     np.log2(df_dup1[\"kcat_95%_1st\"].loc[idx_common]) - np.log2(data_1),\n",
    "    # ],\n",
    "    # yerr = [\n",
    "    #     np.log2(data_2) - np.log2(df_dup2[\"kcat_5%_2nd\"].loc[idx_common]),\n",
    "    #     np.log2(df_dup2[\"kcat_95%_2nd\"].loc[idx_common]) - np.log2(data_2)\n",
    "    # ],\n",
    "\n",
    "    marker = \".\", markersize = 4, linestyle = \"None\", alpha = 0.3\n",
    "    )\n",
    "corr, p = spearmanr(data_1, data_2)\n",
    "plt.title(f\"All sequences, Spearman's $\\\\rho$ = {corr:.4f}\", fontsize = 16)\n",
    "plt.xlabel(\"$log_2(k_{cat})$, replicate 1\")\n",
    "plt.ylabel(\"$log_2(k_{cat})$, replicate 2\")\n",
    "plt.legend()\n",
    "plt.xticks([-15, -10, -5, 0, 5])\n",
    "plt.grid(alpha = 0.3)\n",
    "plt.xlim([-20, 5])\n",
    "# plt.savefig(\"../../outputs/figures/supp_figure6a.png\", dpi=300, transparent=True)\n",
    "# plt.savefig(\"../../outputs/figures/supp_figure6a.pdf\", transparent=True)"
   ]
  },
  {
   "cell_type": "code",
   "execution_count": null,
   "metadata": {},
   "outputs": [],
   "source": []
  },
  {
   "attachments": {},
   "cell_type": "markdown",
   "metadata": {},
   "source": [
    "# supplementary figure 6b"
   ]
  },
  {
   "cell_type": "code",
   "execution_count": 11,
   "metadata": {},
   "outputs": [
    {
     "data": {
      "text/plain": [
       "<matplotlib.legend.Legend at 0x7fc57a8437d0>"
      ]
     },
     "execution_count": 11,
     "metadata": {},
     "output_type": "execute_result"
    },
    {
     "data": {
      "image/png": "[encoded data removed]",
      "text/plain": [
       "<Figure size 432x288 with 1 Axes>"
      ]
     },
     "metadata": {
      "needs_background": "light"
     },
     "output_type": "display_data"
    }
   ],
   "source": [
    "import pandas as pd\n",
    "import numpy as np\n",
    "import matplotlib.pyplot as plt\n",
    "\n",
    "log_dir = \"../../../genzyme_ngs/outputs/220822/\"\n",
    "df_ngs = pd.read_csv(log_dir + \"kinetics_param_dup2.csv\", index_col = 0)\n",
    "df_ngs_andresson = df_ngs.filter(like = \"seqid\", axis = 0).sort_values(by = \"kcat_mean_2nd\")\n",
    "idx_ngs_andresson = [int(idx.split(\"-\")[1].split(\"_\")[0]) for idx in df_ngs_andresson.index]\n",
    "\n",
    "# df_ngs_andresson.head(3)\n",
    "\n",
    "df_ref_andreasson = pd.read_csv(\"/Users/sumishunsuke/Desktop/RNA/genzyme/datasets/ForDMSdata/RF00234/activity/additional_data_andearson_2020/glmS ribozyme RNA array_Source Data/dataframe1_kobs_kcat_KM_rescues.csv\", index_col = 0)\n",
    "seqid2kcat = df_ref_andreasson[\"kcat\"].dropna().to_dict()\n",
    "seqid2kcatstd = df_ref_andreasson[\"kcat_stErr\"].dropna().to_dict()\n",
    "\n",
    "# seqid2kcat[10337]\n",
    "# plt.scatter(\n",
    "#     idx_ngs_andresson,\n",
    "#     [seqid2kcat[idx] for idx in idx_ngs_andresson]\n",
    "# )\n",
    "\n",
    "from scipy.stats import spearmanr\n",
    "\n",
    "corr, p = spearmanr(\n",
    "    np.log2([seqid2kcat[idx] for idx in idx_ngs_andresson]),\n",
    "    np.log2(df_ngs_andresson[\"kcat_mean_2nd\"])\n",
    ")\n",
    "plt.scatter(\n",
    "    np.log2([seqid2kcat[idx] for idx in idx_ngs_andresson]),\n",
    "    np.log2(df_ngs_andresson[\"kcat_mean_2nd\"])\n",
    ")\n",
    "\n",
    "plt.errorbar(\n",
    "    x = np.log2([seqid2kcat[idx] for idx in idx_ngs_andresson]),\n",
    "    y = np.log2(df_ngs_andresson[\"kcat_mean_2nd\"]),\n",
    "    xerr= [\n",
    "        np.log2([seqid2kcat[idx] for idx in idx_ngs_andresson]) - np.log2([seqid2kcat[idx] - seqid2kcatstd[idx] for idx in idx_ngs_andresson]),\n",
    "        np.log2([seqid2kcat[idx]+seqid2kcatstd[idx] for idx in idx_ngs_andresson]) - np.log2([seqid2kcat[idx] for idx in idx_ngs_andresson]),\n",
    "    ],\n",
    "    yerr = [\n",
    "        np.log2(df_ngs_andresson[\"kcat_mean_2nd\"]) - np.log2(df_ngs_andresson[\"kcat_mean_2nd\"] - df_ngs_andresson[\"kcat_std_2nd\"]),\n",
    "        np.log2(df_ngs_andresson[\"kcat_mean_2nd\"] + df_ngs_andresson[\"kcat_std_2nd\"]) - np.log2(df_ngs_andresson[\"kcat_mean_2nd\"]),\n",
    "    ],\n",
    "    fmt = \"o\", alpha = 0.3, label =\"$log_2({k_{cat} \\pm std})$\"\n",
    ")\n",
    "\n",
    "plt.xlabel(\"$log_2(k_{cat})$ (Andresson et al.)\")\n",
    "plt.ylabel(\"$log_2(k_{cat})$, replicate 2\")\n",
    "plt.title(f\"Andreasson's variants (Spearman's $\\\\rho$ = {corr:.4f})\", fontsize = 16)\n",
    "plt.grid(alpha = 0.3)\n",
    "plt.legend()\n",
    "# plt.savefig(\"../../outputs/figures/supp_figure6bottom.png\", dpi=300, transparent=True)\n",
    "# plt.savefig(\"../../outputs/figures/supp_figure6bottom.pdf\", transparent=True)\n",
    "\n"
   ]
  },
  {
   "cell_type": "code",
   "execution_count": null,
   "metadata": {},
   "outputs": [],
   "source": [
    "from scipy.stats import spearmanr\n",
    "\n",
    "corr, p = spearmanr(\n",
    "    np.log2([seqid2kcat[idx] for idx in idx_ngs_andresson]),\n",
    "    np.log2(df_ngs_andresson[\"kcat_mean_1st\"])\n",
    ")\n",
    "plt.scatter(\n",
    "    np.log2([seqid2kcat[idx] for idx in idx_ngs_andresson]),\n",
    "    np.log2(df_ngs_andresson[\"kcat_mean_1st\"])\n",
    ")\n",
    "\n",
    "plt.errorbar(\n",
    "    x = np.log2([seqid2kcat[idx] for idx in idx_ngs_andresson]),\n",
    "    y = np.log2(df_ngs_andresson[\"kcat_mean_1st\"]),\n",
    "    xerr= [\n",
    "        np.log2([seqid2kcat[idx] for idx in idx_ngs_andresson]) - np.log2([seqid2kcat[idx] - seqid2kcatstd[idx] for idx in idx_ngs_andresson]),\n",
    "        np.log2([seqid2kcat[idx]+seqid2kcatstd[idx] for idx in idx_ngs_andresson]) - np.log2([seqid2kcat[idx] for idx in idx_ngs_andresson]),\n",
    "    ],\n",
    "    yerr = [\n",
    "        np.log2(df_ngs_andresson[\"kcat_mean_1st\"]) - np.log2(df_ngs_andresson[\"kcat_mean_1st\"] - df_ngs_andresson[\"kcat_std_1st\"]),\n",
    "        np.log2(df_ngs_andresson[\"kcat_mean_1st\"] + df_ngs_andresson[\"kcat_std_1st\"]) - np.log2(df_ngs_andresson[\"kcat_mean_1st\"]),\n",
    "    ],\n",
    "    fmt = \"o\", alpha = 0.3, label =\"$log_2({k_{cat} \\pm std})$\"\n",
    ")\n",
    "\n",
    "plt.xlabel(\"$log_2(k_{cat})$ (Andresson et al.)\")\n",
    "plt.ylabel(\"$log_2(k_{cat})$, replicate 1\")\n",
    "plt.title(f\"Andreasson's variants (Spearman's $\\\\rho$ = {corr:.4f})\", fontsize = 16)\n",
    "plt.grid(alpha = 0.3)\n",
    "plt.legend()\n",
    "# plt.savefig(\"../../outputs/figures/supp_figure6upper.png\", dpi=300, transparent=True)\n",
    "# plt.savefig(\"../../outputs/figures/supp_figure6upper.pdf\", transparent=True)\n"
   ]
  },
  {
   "attachments": {},
   "cell_type": "markdown",
   "metadata": {},
   "source": [
    "# supplementary figure 6c: "
   ]
  },
  {
   "cell_type": "code",
   "execution_count": 12,
   "metadata": {},
   "outputs": [
    {
     "name": "stdout",
     "output_type": "stream",
     "text": [
      "p-value: 5.045561721883115e-26\n",
      "corr: 268578.0\n"
     ]
    }
   ],
   "source": [
    "from scipy.stats import mannwhitneyu\n",
    "\n",
    "df = pd.read_csv(log_dir + \"kinetics_param_dup2.csv\")\n",
    "df_nat = df[df[\"Unnamed: 0\"].str.contains(\"/\")]\n",
    "df_gen = df[df[\"Unnamed: 0\"].str.contains(\"gen\")]\n",
    "\n",
    "corr, p = mannwhitneyu(df_nat[\"kcat_mean_2nd\"], df_gen[\"kcat_mean_2nd\"])\n",
    "print(f\"p-value: {p}\")\n",
    "print(f\"corr: {corr}\")\n",
    "\n"
   ]
  },
  {
   "cell_type": "code",
   "execution_count": 13,
   "metadata": {},
   "outputs": [
    {
     "data": {
      "image/png": "[encoded data removed]",
      "text/plain": [
       "<Figure size 432x288 with 1 Axes>"
      ]
     },
     "metadata": {
      "needs_background": "light"
     },
     "output_type": "display_data"
    }
   ],
   "source": [
    "_, bins, _ = plt.hist(np.log2(df_nat[\"kcat_mean_2nd\"]), bins=50, alpha=0.7, label=f\"Natural      ({df_nat.shape[0]} seq)\", density=True, color = \"gray\")\n",
    "plt.hist(np.log2(df_gen[\"kcat_mean_2nd\"]), bins=bins, alpha=0.7, label=f\"Generated ({df_gen.shape[0]} seq)\", density=True, color = \"darkorange\")\n",
    "plt.grid(alpha = 0.3)\n",
    "plt.xlabel(\"$log_2(k_{cat})$\")\n",
    "plt.ylabel(\"Frequency\", fontsize=12)\n",
    "plt.legend()\n",
    "plt.title(\"Replicate 2, p = $5.046*10^{-26}$\", fontsize = 16)\n",
    "# plt.savefig(\"../../outputs/figures/supp_figure6c.pdf\", transparent=True)\n",
    "\n",
    "\n"
   ]
  },
  {
   "cell_type": "code",
   "execution_count": null,
   "metadata": {},
   "outputs": [],
   "source": []
  }
 ],
 "metadata": {
  "kernelspec": {
   "display_name": "genzyme",
   "language": "python",
   "name": "python3"
  },
  "language_info": {
   "codemirror_mode": {
    "name": "ipython",
    "version": 3
   },
   "file_extension": ".py",
   "mimetype": "text/x-python",
   "name": "python",
   "nbconvert_exporter": "python",
   "pygments_lexer": "ipython3",
   "version": "3.7.7"
  },
  "orig_nbformat": 4
 },
 "nbformat": 4,
 "nbformat_minor": 2
}
