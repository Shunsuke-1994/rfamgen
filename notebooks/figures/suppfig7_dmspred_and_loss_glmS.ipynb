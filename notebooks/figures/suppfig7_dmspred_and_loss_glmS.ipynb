{
 "cells": [
  {
   "cell_type": "markdown",
   "metadata": {},
   "source": [
    "# show relation between DMS prediction and learning curve"
   ]
  },
  {
   "attachments": {},
   "cell_type": "markdown",
   "metadata": {},
   "source": [
    "## glmS"
   ]
  },
  {
   "cell_type": "code",
   "execution_count": 1,
   "metadata": {},
   "outputs": [
    {
     "name": "stdout",
     "output_type": "stream",
     "text": [
      "/Users/sumishunsuke/Desktop/RNA/genzyme\n"
     ]
    }
   ],
   "source": [
    "%cd /Users/sumishunsuke/Desktop/RNA/genzyme\n",
    "\n",
    "import subprocess\n",
    "import matplotlib.pyplot as plt\n",
    "import numpy as np\n",
    "import pandas as pd"
   ]
  },
  {
   "cell_type": "code",
   "execution_count": null,
   "metadata": {},
   "outputs": [],
   "source": [
    "random_seeds = range(10)\n",
    "for i, seed in enumerate(random_seeds):\n",
    "    cmd = f\"\"\"\n",
    "    python ./scripts/train_CMVAE.py \\\n",
    "    --data_dir ./datasets/ForDMSdata/RF00234 \\\n",
    "    --X_train RF00234_unique_addtemp_notrunc_traceback_onehot_cm_train.h5 \\\n",
    "    --w_train RF00234_unique_addtemp_notrunc_traceback_onehot_cm_train_weight_threshold0p2.h5 \\\n",
    "    --X_valid RF00234_unique_addtemp_notrunc_traceback_onehot_cm_valid.h5 \\\n",
    "    --w_valid RF00234_unique_addtemp_notrunc_traceback_onehot_cm_valid_weight_threshold0p2.h5 \\\n",
    "    --beta 0.016 \\\n",
    "    --log \\\n",
    "    --log_dir ./outputs/ForDMSdata/RF00234/timecourse_cmvae  \\\n",
    "    --use_anneal \\\n",
    "    --use_early_stopping \\\n",
    "    --save_ckpt \\\n",
    "    --ckpt_iter 3 \\\n",
    "    --random_seed {str(seed)} \\\n",
    "    --suffix _trial{str(i).zfill(2)}\n",
    "    \"\"\"\n",
    "    # res = subprocess.run(cmd, shell = True, capture_output = True)\n",
    "    print(f\"trial {str(i).zfill(2)}, done\")\n",
    "    print(res.stderr.decode())"
   ]
  },
  {
   "cell_type": "markdown",
   "metadata": {},
   "source": [
    "# comparison between loss and dms pred"
   ]
  },
  {
   "cell_type": "code",
   "execution_count": 4,
   "metadata": {},
   "outputs": [
    {
     "name": "stdout",
     "output_type": "stream",
     "text": [
      "/Users/sumishunsuke/Desktop/RNA/genzyme/notebooks/figures\n"
     ]
    }
   ],
   "source": [
    "!pwd"
   ]
  },
  {
   "cell_type": "code",
   "execution_count": 2,
   "metadata": {},
   "outputs": [],
   "source": [
    "def load_dms_results(file):\n",
    "    eve = []\n",
    "    with open(file, \"r\") as f: \n",
    "        for line in f:\n",
    "            if not line.startswith(\"#\"):\n",
    "                eve.append(float(line))\n",
    "\n",
    "    return eve\n",
    "\n",
    "\n",
    "def get_dict_pred():\n",
    "    d = {}\n",
    "    for i in range(10):\n",
    "        d_trial = {}\n",
    "        pred_files_trial = !ls -t ../../outputs/ForDMSdata/RF00234/timecourse_cmvae/*trial{str(i).zfill(2)}*.txt\n",
    "        for pred_file in pred_files_trial:\n",
    "            epoch = int(pred_file.split(\"/\")[-1].split(\"_\")[1].replace(\"epoch\", \"\"))\n",
    "            \n",
    "            d_trial[epoch] = load_dms_results(pred_file)\n",
    "        d[i] = d_trial\n",
    "    return d\n",
    "\n",
    "\n",
    "d = get_dict_pred()"
   ]
  },
  {
   "cell_type": "code",
   "execution_count": 7,
   "metadata": {},
   "outputs": [
    {
     "data": {
      "text/plain": [
       "[3.79e-06, 0.00019433299999999998, 0.030542046, 8.26e-06]"
      ]
     },
     "execution_count": 7,
     "metadata": {},
     "output_type": "execute_result"
    }
   ],
   "source": [
    "# load activity\n",
    "import pandas as pd \n",
    "\n",
    "df = pd.read_csv(\"../../datasets/ForDMSdata/RF00234/activity/additional_data_andearson_2020/glmS ribozyme RNA array_Source Data/dataframe1_kobs_kcat_KM_rescues.csv\")\n",
    "df = df.dropna(subset = [\"kcat\"])\n",
    "df = df[df[\"MismatchCount\"] >0]\n",
    "fitness = df[\"kcat\"].tolist()\n",
    "fitness[:4]"
   ]
  },
  {
   "cell_type": "code",
   "execution_count": 8,
   "metadata": {},
   "outputs": [
    {
     "data": {
      "text/plain": [
       "-0.1115379589569689"
      ]
     },
     "execution_count": 8,
     "metadata": {},
     "output_type": "execute_result"
    }
   ],
   "source": [
    "# load loss\n",
    "\n",
    "import pandas as pd\n",
    "import numpy as np\n",
    "import matplotlib.pyplot as plt\n",
    "from scipy.stats import spearmanr\n",
    "\n",
    "d_spearmanr = {}\n",
    "for i in range(10):\n",
    "    d_spearmanr[i] = {}\n",
    "    for epoch in d[i].keys():\n",
    "        corr, p = spearmanr(fitness, d[i][epoch])\n",
    "        d_spearmanr[i][epoch] = corr\n",
    "\n",
    "d_spearmanr[1][3]"
   ]
  },
  {
   "cell_type": "code",
   "execution_count": 9,
   "metadata": {},
   "outputs": [
    {
     "data": {
      "text/html": [
       "<div>\n",
       "<style scoped>\n",
       "    .dataframe tbody tr th:only-of-type {\n",
       "        vertical-align: middle;\n",
       "    }\n",
       "\n",
       "    .dataframe tbody tr th {\n",
       "        vertical-align: top;\n",
       "    }\n",
       "\n",
       "    .dataframe thead th {\n",
       "        text-align: right;\n",
       "    }\n",
       "</style>\n",
       "<table border=\"1\" class=\"dataframe\">\n",
       "  <thead>\n",
       "    <tr style=\"text-align: right;\">\n",
       "      <th></th>\n",
       "      <th>loss_valid</th>\n",
       "      <th>kl_valid</th>\n",
       "      <th>elbo_valid</th>\n",
       "      <th>Spearman's ρ</th>\n",
       "    </tr>\n",
       "  </thead>\n",
       "  <tbody>\n",
       "    <tr>\n",
       "      <th>0</th>\n",
       "      <td>5151.938376</td>\n",
       "      <td>20.355015</td>\n",
       "      <td>5154.543802</td>\n",
       "      <td>NaN</td>\n",
       "    </tr>\n",
       "    <tr>\n",
       "      <th>1</th>\n",
       "      <td>4900.303783</td>\n",
       "      <td>32.905511</td>\n",
       "      <td>4904.515740</td>\n",
       "      <td>NaN</td>\n",
       "    </tr>\n",
       "    <tr>\n",
       "      <th>2</th>\n",
       "      <td>4798.410788</td>\n",
       "      <td>57.453415</td>\n",
       "      <td>4805.764878</td>\n",
       "      <td>NaN</td>\n",
       "    </tr>\n",
       "    <tr>\n",
       "      <th>3</th>\n",
       "      <td>4789.712029</td>\n",
       "      <td>49.719046</td>\n",
       "      <td>4796.075985</td>\n",
       "      <td>-0.111538</td>\n",
       "    </tr>\n",
       "    <tr>\n",
       "      <th>4</th>\n",
       "      <td>4719.877772</td>\n",
       "      <td>36.329449</td>\n",
       "      <td>4724.527947</td>\n",
       "      <td>NaN</td>\n",
       "    </tr>\n",
       "  </tbody>\n",
       "</table>\n",
       "</div>"
      ],
      "text/plain": [
       "    loss_valid   kl_valid   elbo_valid  Spearman's ρ\n",
       "0  5151.938376  20.355015  5154.543802           NaN\n",
       "1  4900.303783  32.905511  4904.515740           NaN\n",
       "2  4798.410788  57.453415  4805.764878           NaN\n",
       "3  4789.712029  49.719046  4796.075985     -0.111538\n",
       "4  4719.877772  36.329449  4724.527947           NaN"
      ]
     },
     "execution_count": 9,
     "metadata": {},
     "output_type": "execute_result"
    }
   ],
   "source": [
    "# load all loss\n",
    "\n",
    "d_trial = {}\n",
    "for i in range(10):\n",
    "\n",
    "    df_loss = pd.read_csv(f\"../../outputs/ForDMSdata/RF00234/timecourse_cmvae/log_valid_trial{str(i).zfill(2)}.csv\")\n",
    "    df_loss.head()\n",
    "    df_loss[\"Spearman's ρ\"]= [np.nan for i in df_loss.index]\n",
    "    for idx in df_loss.index:\n",
    "        try:\n",
    "            df_loss[\"Spearman's ρ\"][idx] = d_spearmanr[i][idx]\n",
    "        except:\n",
    "            pass\n",
    "\n",
    "    d_trial[i] = df_loss\n",
    "\n",
    "d_trial[1].head()"
   ]
  },
  {
   "cell_type": "code",
   "execution_count": 12,
   "metadata": {},
   "outputs": [
    {
     "data": {
      "image/png": "[encoded data removed]",
      "text/plain": [
       "<Figure size 432x288 with 1 Axes>"
      ]
     },
     "metadata": {
      "needs_background": "light"
     },
     "output_type": "display_data"
    }
   ],
   "source": [
    "for i in range(10):\n",
    "    df_tmp = d_trial[i].dropna(axis = 0)\n",
    "    corr, p = spearmanr(df_tmp[\"elbo_valid\"], df_tmp[\"Spearman's ρ\"])\n",
    "\n",
    "    plt.scatter(\n",
    "        df_tmp[\"elbo_valid\"],\n",
    "        df_tmp[\"Spearman's ρ\"].abs(), alpha = 0.5, label = f\"trial {str(i).zfill(2)}, Spearman's ρ = {corr:.4f}\")\n",
    "plt.grid(alpha = 0.5)\n",
    "plt.legend(loc = (1.03, 0.3))\n",
    "plt.xlabel(\"Loss\")\n",
    "plt.ylabel(\"Correlation with DMS data\")\n",
    "plt.title(\"GlmS ribozyme (Andreasson et al., 2020)\")\n",
    "plt.subplots_adjust(right = 0.5)\n",
    "\n",
    "# plt.savefig(\"../../outputs/figures/suppfig_dmspred_and_loss_glms.pdf\", transparent = True)"
   ]
  },
  {
   "cell_type": "code",
   "execution_count": null,
   "metadata": {},
   "outputs": [],
   "source": []
  }
 ],
 "metadata": {
  "kernelspec": {
   "display_name": "genzyme",
   "language": "python",
   "name": "python3"
  },
  "language_info": {
   "codemirror_mode": {
    "name": "ipython",
    "version": 3
   },
   "file_extension": ".py",
   "mimetype": "text/x-python",
   "name": "python",
   "nbconvert_exporter": "python",
   "pygments_lexer": "ipython3",
   "version": "3.7.7"
  },
  "orig_nbformat": 4
 },
 "nbformat": 4,
 "nbformat_minor": 2
}
