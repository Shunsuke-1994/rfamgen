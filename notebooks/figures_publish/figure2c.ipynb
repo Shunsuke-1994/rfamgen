{
 "cells": [
  {
   "cell_type": "code",
   "execution_count": 3,
   "metadata": {},
   "outputs": [
    {
     "data": {
      "text/html": [
       "<div>\n",
       "<style scoped>\n",
       "    .dataframe tbody tr th:only-of-type {\n",
       "        vertical-align: middle;\n",
       "    }\n",
       "\n",
       "    .dataframe tbody tr th {\n",
       "        vertical-align: top;\n",
       "    }\n",
       "\n",
       "    .dataframe thead th {\n",
       "        text-align: right;\n",
       "    }\n",
       "</style>\n",
       "<table border=\"1\" class=\"dataframe\">\n",
       "  <thead>\n",
       "    <tr style=\"text-align: right;\">\n",
       "      <th></th>\n",
       "      <th>RfamGen</th>\n",
       "      <th>GCVAE</th>\n",
       "    </tr>\n",
       "    <tr>\n",
       "      <th></th>\n",
       "      <th></th>\n",
       "      <th></th>\n",
       "    </tr>\n",
       "  </thead>\n",
       "  <tbody>\n",
       "    <tr>\n",
       "      <th>RF00001</th>\n",
       "      <td>125.23662</td>\n",
       "      <td>98.88812</td>\n",
       "    </tr>\n",
       "    <tr>\n",
       "      <th>RF00002</th>\n",
       "      <td>152.42550</td>\n",
       "      <td>123.66439</td>\n",
       "    </tr>\n",
       "  </tbody>\n",
       "</table>\n",
       "</div>"
      ],
      "text/plain": [
       "           RfamGen      GCVAE\n",
       "\\n                           \n",
       "RF00001  125.23662   98.88812\n",
       "RF00002  152.42550  123.66439"
      ]
     },
     "execution_count": 3,
     "metadata": {},
     "output_type": "execute_result"
    }
   ],
   "source": [
    "import pandas as pd \n",
    "import matplotlib.pyplot as plt \n",
    "\n",
    "df_bitscore = pd.read_excel(\"./source_data/41592_2023_2148_MOESM5_ESM.xlsx\", sheet_name=\"Fig2c\", index_col=0)\n",
    "df_bitscore.head(2)"
   ]
  },
  {
   "cell_type": "code",
   "execution_count": 4,
   "metadata": {},
   "outputs": [
    {
     "data": {
      "text/plain": [
       "WilcoxonResult(statistic=150225.0, pvalue=5.44966945780281e-30)"
      ]
     },
     "execution_count": 4,
     "metadata": {},
     "output_type": "execute_result"
    }
   ],
   "source": [
    "from scipy.stats import wilcoxon\n",
    "\n",
    "wilcoxon(\n",
    "    df_bitscore[\"RfamGen\"],\n",
    "    df_bitscore[\"GCVAE\"],\n",
    "    alternative=\"greater\"\n",
    ")"
   ]
  },
  {
   "cell_type": "code",
   "execution_count": 7,
   "metadata": {},
   "outputs": [
    {
     "data": {
      "image/png": "[encoded data removed]",
      "text/plain": [
       "<Figure size 360x360 with 1 Axes>"
      ]
     },
     "metadata": {
      "needs_background": "light"
     },
     "output_type": "display_data"
    }
   ],
   "source": [
    "# plot scatter \n",
    "import numpy as np\n",
    "import seaborn as sns \n",
    "\n",
    "fig, ax1 = plt.subplots(figsize = (5, 5))\n",
    "def transform(x):\n",
    "    return np.log2(x - min(df_bitscore[\"RfamGen\"]) + 1)\n",
    "\n",
    "data_cmvae = transform(df_bitscore[\"RfamGen\"])\n",
    "data_gcvae = transform(df_bitscore[\"GCVAE\"])\n",
    "\n",
    "ax1.scatter(data_gcvae, data_cmvae, marker = \".\", alpha = 0.5, s = 12, color = \"darkorange\")\n",
    "# ax1.grid(alpha = 0.3)\n",
    "ax1.plot(\n",
    "    [transform(0), transform(2500)],\n",
    "    [transform(0), transform(2500)],\n",
    "    color = \"black\", linestyle = \"dashed\", linewidth =1)\n",
    "\n",
    "ax1.set_title(\"Bit scores of 628 RNA families\", fontsize = 16)\n",
    "ax1.set_xlabel(\"GCVAE\", fontsize = 14)\n",
    "ax1.set_ylabel(\"RfamGen\", fontsize = 14)\n",
    "ax1.set_ylim(transform(0), transform(2500))\n",
    "ax1.set_xlim(transform(0), transform(2500))\n",
    "\n",
    "ticks = [20 ,50, 100, 200, 300, 400]+[500*i for i in range(1,6)]\n",
    "\n",
    "plt.xticks([np.log2(t+1) for t in ticks], ticks, rotation=90)\n",
    "plt.yticks([np.log2(t+1) for t in ticks], ticks)\n",
    "\n",
    "\n",
    "plt.tight_layout()\n",
    "# fig.subplots_adjust(right=0.76)\n",
    "# plt.savefig(\"../../outputs/figures/figure2c.pdf\",transparent = True)"
   ]
  },
  {
   "cell_type": "code",
   "execution_count": null,
   "metadata": {},
   "outputs": [],
   "source": []
  }
 ],
 "metadata": {
  "kernelspec": {
   "display_name": "Python 3",
   "language": "python",
   "name": "python3"
  },
  "language_info": {
   "codemirror_mode": {
    "name": "ipython",
    "version": 3
   },
   "file_extension": ".py",
   "mimetype": "text/x-python",
   "name": "python",
   "nbconvert_exporter": "python",
   "pygments_lexer": "ipython3",
   "version": "3.7.7"
  }
 },
 "nbformat": 4,
 "nbformat_minor": 2
}
